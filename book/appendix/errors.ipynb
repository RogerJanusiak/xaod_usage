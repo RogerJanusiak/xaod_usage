{
 "cells": [
  {
   "cell_type": "markdown",
   "metadata": {},
   "source": [
    "# Understanding Errors\n",
    "\n",
    "At its heart, we are using `func_adl` to run C++. This is an abstraction. And givin how complex ATLAS software is, the abstraction is bound to leak. One very messy place it leaks is when things go wrong. And it leaks in two ways.\n",
    "\n",
    "The first way is that `ServiceX` is a distributed processing system. And collecting errors in an appropriate way from 100's of processors is not trivial.\n",
    "\n",
    "The second way it leaks is that when something goes wrong with the generated C++, `ServiceX` just passes back the error logs, leaving it up to the user. This section tries to list some of the errors that are seen, showing some examples, and also the appropriate course of action to take."
   ]
  },
  {
   "cell_type": "markdown",
   "metadata": {},
   "source": [
    "## Asking for a Systematic Error that does not exist\n",
    "\n",
    "Consider the following code:"
   ]
  },
  {
   "cell_type": "code",
   "execution_count": null,
   "metadata": {},
   "outputs": [],
   "source": [
    "muons = (ds\n",
    "        .SelectMany(lambda e: e.Muons(\"Muons\", calibration=\"MUON_ID__1up\"))\n",
    "        .Select(lambda j: {\n",
    "            'pt': j.pt() / 1000.0,\n",
    "            'eta': j.eta(),\n",
    "            'phi': j.phi(),\n",
    "        })\n",
    "        .AsAwkwardArray()\n",
    "        .value())"
   ]
  },
  {
   "cell_type": "markdown",
   "metadata": {},
   "source": [
    "## Asking for something not present in your skim\n",
    "\n",
    "The ATLAS data model is very flexible. While that brings a lot of power, it can also mean you run into unexpected problems whose cause isn't transparent. For example, since you are dealing with C++ objects to extract data, and not directly with the data itself, you can ask for some data that doesn't exist. The software will give you a pretty clear error.\n",
    "\n",
    "`Tracks` are some of the larger objects in ATLAS data, and as a result, they are slimmed down. Here is an example of asking for something that does not exist:"
   ]
  },
  {
   "cell_type": "markdown",
   "metadata": {},
   "source": []
  }
 ],
 "metadata": {
  "language_info": {
   "name": "python"
  },
  "orig_nbformat": 4
 },
 "nbformat": 4,
 "nbformat_minor": 2
}
