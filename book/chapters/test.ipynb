{
 "cells": [
  {
   "cell_type": "code",
   "execution_count": null,
   "metadata": {},
   "outputs": [
    {
     "data": {
      "application/vnd.jupyter.widget-view+json": {
       "model_id": "8c2ccde28a9147e4a835d63e8b0e2eea",
       "version_major": 2,
       "version_minor": 0
      },
      "text/plain": [
       "Output()"
      ]
     },
     "metadata": {},
     "output_type": "display_data"
    },
    {
     "data": {
      "text/html": [
       "<pre style=\"white-space:pre;overflow-x:auto;line-height:normal;font-family:Menlo,'DejaVu Sans Mono',consolas,'Courier New',monospace\"></pre>\n"
      ],
      "text/plain": []
     },
     "metadata": {},
     "output_type": "display_data"
    }
   ],
   "source": [
    "from servicex import deliver, dataset\n",
    "from func_adl_servicex_xaodr22 import FuncADLQueryPHYSLITE, cpp_float\n",
    "\n",
    "\n",
    "def func_adl_xaod_typed():\n",
    "    query = FuncADLQueryPHYSLITE()  # type: ignore\n",
    "    jets_per_event = query.Select(lambda e: e.Jets('AnalysisJets'))\n",
    "    jet_info_per_event = jets_per_event.Select(\n",
    "        lambda jets: {\n",
    "            'pt': jets.Where(lambda j: (j.pt() / 1000 > 30)).Select(lambda j: j.pt() / 1000),\n",
    "            'eta': jets.Select(lambda j: j.eta()),\n",
    "            'emf': jets.Select(lambda j: j.getAttribute[cpp_float]('EMFrac'))\n",
    "            }\n",
    "    )\n",
    "\n",
    "    spec = {\n",
    "        'Sample': [{\n",
    "            'Name': \"func_adl_xAOD_simple\",\n",
    "            'Dataset': dataset.FileList(\n",
    "                [\n",
    "                    \"root://eospublic.cern.ch//eos/opendata/atlas/rucio/mc20_13TeV/DAOD_PHYSLITE.37622528._000013.pool.root.1\",  # noqa: E501\n",
    "                ]\n",
    "            ),\n",
    "            'Query': jet_info_per_event,\n",
    "            'Codegen': 'atlasr22',\n",
    "        }]\n",
    "    }\n",
    "    files = deliver(spec, servicex_name=\"atlasr22\")\n",
    "    assert files is not None, \"No files returned from deliver! Internal error\"\n",
    "    return files\n",
    "\n",
    "\n",
    "if __name__ == \"__main__\":\n",
    "    files = func_adl_xaod_typed()\n",
    "    assert len(files['func_adl_xAOD_simple']) == 1"
   ]
  },
  {
   "cell_type": "code",
   "execution_count": 2,
   "metadata": {},
   "outputs": [
    {
     "name": "stdout",
     "output_type": "stream",
     "text": [
      "{'func_adl_xAOD_simple': ['/tmp/servicex_rjanusia/b7dd780e-9a6c-4514-a19f-438b509c79ce/root___eospublic.cern.ch__eos_opendata_atlas_rucio_mc20_13TeV_DAOD_PHYSLITE.37622528._000013.pool.root.1']}\n"
     ]
    }
   ],
   "source": [
    "print(files)"
   ]
  },
  {
   "cell_type": "code",
   "execution_count": 2,
   "metadata": {},
   "outputs": [],
   "source": [
    "import uproot\n",
    "import awkward as ak\n",
    "file_path = files['func_adl_xAOD_simple'][0]"
   ]
  },
  {
   "cell_type": "code",
   "execution_count": 3,
   "metadata": {},
   "outputs": [],
   "source": [
    "file = uproot.open(file_path)"
   ]
  },
  {
   "cell_type": "code",
   "execution_count": 4,
   "metadata": {},
   "outputs": [],
   "source": [
    "import matplotlib.pyplot as plt\n",
    "import numpy as np"
   ]
  },
  {
   "cell_type": "code",
   "execution_count": 5,
   "metadata": {},
   "outputs": [],
   "source": [
    "array = file['atlas_xaod_tree;1']['pt'].arrays(library=\"ak\").pt\n",
    "flat = ak.flatten(array)"
   ]
  },
  {
   "cell_type": "code",
   "execution_count": 6,
   "metadata": {},
   "outputs": [
    {
     "data": {
      "image/png": "[encoded data removed]",
      "text/plain": [
       "<Figure size 640x480 with 1 Axes>"
      ]
     },
     "metadata": {},
     "output_type": "display_data"
    }
   ],
   "source": [
    "plt.hist(flat, bins=100, range=(0, 100))\n",
    "plt.xlabel('Jet $p_T$ [GeV]')\n",
    "plt.ylabel('Number of jets')\n",
    "_ = plt.title('Jet $p_T$ distribution')\n"
   ]
  },
  {
   "cell_type": "code",
   "execution_count": null,
   "metadata": {},
   "outputs": [],
   "source": []
  }
 ],
 "metadata": {
  "kernelspec": {
   "display_name": "Python 3",
   "language": "python",
   "name": "python3"
  },
  "language_info": {
   "codemirror_mode": {
    "name": "ipython",
    "version": 3
   },
   "file_extension": ".py",
   "mimetype": "text/x-python",
   "name": "python",
   "nbconvert_exporter": "python",
   "pygments_lexer": "ipython3",
   "version": "3.9.18"
  }
 },
 "nbformat": 4,
 "nbformat_minor": 2
}
