{
 "cells": [
  {
   "cell_type": "markdown",
   "metadata": {},
   "source": [
    "# The Muon Collection\n",
    "\n",
    "Muons are single-track particles. They can be reconstructed from hits in the tracking, calorimeter, and, of course, the muons chambers. Like electrons, there are several versions of the same muons that one can access (`Tight`, `Medium`, etc.).\n"
   ]
  },
  {
   "cell_type": "code",
   "execution_count": 1,
   "metadata": {},
   "outputs": [
    {
     "name": "stderr",
     "output_type": "stream",
     "text": [
      "Found backend type matching \"xaod\". Matching by type is depreciated. Please switch to using the \"name\" keyword in your servicex.yaml file.\n",
      "Found backend type matching \"xaod\". Matching by type is depreciated. Please switch to using the \"name\" keyword in your servicex.yaml file.\n",
      "Found backend type matching \"xaod\". Matching by type is depreciated. Please switch to using the \"name\" keyword in your servicex.yaml file.\n",
      "Found backend type matching \"xaod\". Matching by type is depreciated. Please switch to using the \"name\" keyword in your servicex.yaml file.\n",
      "Found backend type matching \"xaod\". Matching by type is depreciated. Please switch to using the \"name\" keyword in your servicex.yaml file.\n"
     ]
    }
   ],
   "source": [
    "import matplotlib.pyplot as plt\n",
    "from config import ds_zmumu as ds\n",
    "from helpers import match_objects\n",
    "import awkward as ak\n",
    "import numpy as np\n",
    "import asyncio\n",
    "from func_adl_servicex_xaodr21 import calib_tools"
   ]
  },
  {
   "cell_type": "markdown",
   "metadata": {},
   "source": [
    "The default muon we fetch is the so-called `Medium` muon with `NonIso` isolation. Unfortunately, the MC we are working with for this demo contains very few muons!"
   ]
  },
  {
   "cell_type": "code",
   "execution_count": 2,
   "metadata": {},
   "outputs": [],
   "source": [
    "muons = (ds\n",
    "        .Select(lambda e: e.Muons())\n",
    "        .Select(lambda muons: [m for m in muons if m.pt() > 30000.0])\n",
    "        .Select(lambda muons: {\n",
    "            'pt': [m.pt() / 1000.0 for m in muons],\n",
    "            'eta': [m.eta() for m in muons],\n",
    "            'phi': [m.phi() for m in muons],\n",
    "        })\n",
    "        .AsAwkwardArray()\n",
    "        .value())"
   ]
  },
  {
   "cell_type": "code",
   "execution_count": 3,
   "metadata": {},
   "outputs": [
    {
     "data": {
      "image/png": "[encoded data removed]",
      "text/plain": [
       "<Figure size 432x288 with 1 Axes>"
      ]
     },
     "metadata": {
      "needs_background": "light"
     },
     "output_type": "display_data"
    }
   ],
   "source": [
    "plt.hist(ak.flatten(muons.pt), bins=100, range=(0, 100))\n",
    "plt.xlabel('Muon $p_T$ [GeV]')\n",
    "plt.ylabel('Number of muons')\n",
    "_ = plt.title('Muon $p_T$ distribution for $Z\\\\rightarrow ee$ events')"
   ]
  },
  {
   "cell_type": "markdown",
   "metadata": {},
   "source": [
    "## Muon Types\n",
    "\n",
    "Muons come in several different flavors. In this sample with very few muons, we can look at the different $\\eta$ distributions for what muons are there. As with the [electrons](sec-ele-wp) we need to run three different queries (and we use the async keyword to run them in parallel):"
   ]
  },
  {
   "cell_type": "code",
   "execution_count": 4,
   "metadata": {},
   "outputs": [],
   "source": [
    "import logging\n",
    "# logging.basicConfig(level=logging.DEBUG)\n",
    "# logging.getLogger(\"func_adl_xAOD.common.local_dataset\").setLevel(level=logging.DEBUG)\n",
    "# from servicex import ignore_cache\n",
    "# with ignore_cache():\n",
    "muon_working_points = ['Loose', 'Medium','Tight']\n",
    "muons_async = [\n",
    "    (calib_tools.query_update(ds, muon_working_point=wp)\n",
    "        .SelectMany(lambda e: [mu.eta() for mu in e.Muons()])\n",
    "        .AsAwkwardArray('eta')\n",
    "        .value_async())\n",
    "    for wp in muon_working_points\n",
    "]\n",
    "muons_wp = await asyncio.gather(*muons_async)"
   ]
  },
  {
   "cell_type": "code",
   "execution_count": 5,
   "metadata": {},
   "outputs": [
    {
     "data": {
      "image/png": "[encoded data removed]",
      "text/plain": [
       "<Figure size 432x288 with 1 Axes>"
      ]
     },
     "metadata": {
      "needs_background": "light"
     },
     "output_type": "display_data"
    }
   ],
   "source": [
    "for idx, wp in list(enumerate(muon_working_points)):\n",
    "    plt.hist(muons_wp[idx].eta, bins=50, range=(-3, 3), label=wp)\n",
    "plt.xlabel('Muon $\\\\eta$')\n",
    "plt.ylabel('Number of muons')\n",
    "plt.yscale('log')\n",
    "plt.title(r'Muon type $\\eta$ distribution for $Z\\rightarrow \\mu\\mu$ events')\n",
    "_ = plt.legend()"
   ]
  },
  {
   "cell_type": "markdown",
   "metadata": {},
   "source": [
    "## Calibration\n",
    "\n",
    "By default the muons we pulled are `Medium` quality and calibrated. One can request different systematic errors using the `calibration` argument to the `Muons` method."
   ]
  },
  {
   "cell_type": "markdown",
   "metadata": {},
   "source": [
    "To grab the raw jets (without calibration) we just set the `calibrated` parameter to `None` (there is very little reason one will do this normally):"
   ]
  },
  {
   "cell_type": "code",
   "execution_count": 6,
   "metadata": {},
   "outputs": [],
   "source": [
    "raw_muons = (ds\n",
    "             .Select(lambda e: e.Muons(uncalibrated_collection = \"Muons\"))\n",
    "             .Select(lambda l_muons: [m for m in l_muons if m.pt() > 30000.0])\n",
    "             .Select(lambda l_muons: {\n",
    "                 'pt': [m.pt() / 1000.0 for m in l_muons],\n",
    "                 'eta': [m.eta() for m in l_muons],\n",
    "                 'phi': [m.phi() for m in l_muons],\n",
    "             })\n",
    "             .AsAwkwardArray()\n",
    "             .value())"
   ]
  },
  {
   "cell_type": "markdown",
   "metadata": {},
   "source": [
    "The number of raw jets and the number of calibrated jets are quite different from the number of raw jets, so we'll need to match them in $\\eta$ and $\\phi$:"
   ]
  },
  {
   "cell_type": "code",
   "execution_count": 7,
   "metadata": {},
   "outputs": [
    {
     "data": {
      "text/plain": [
       "(60166, 43900)"
      ]
     },
     "execution_count": 7,
     "metadata": {},
     "output_type": "execute_result"
    }
   ],
   "source": [
    "len(ak.flatten(raw_muons.pt)), len(ak.flatten(muons.pt))"
   ]
  },
  {
   "cell_type": "code",
   "execution_count": 8,
   "metadata": {},
   "outputs": [],
   "source": [
    "raw_muons_matched = match_objects(muons, raw_muons)"
   ]
  },
  {
   "cell_type": "markdown",
   "metadata": {},
   "source": [
    "Note the units along the x-axis here!!"
   ]
  },
  {
   "cell_type": "code",
   "execution_count": 9,
   "metadata": {},
   "outputs": [
    {
     "data": {
      "image/png": "[encoded data removed]",
      "text/plain": [
       "<Figure size 432x288 with 1 Axes>"
      ]
     },
     "metadata": {
      "needs_background": "light"
     },
     "output_type": "display_data"
    }
   ],
   "source": [
    "plt.hist(ak.flatten(muons.pt-raw_muons_matched.pt), bins=50, range=(-0.8, 0.8))\n",
    "plt.xlabel('$\\Delta p_T$ for calibrated muons matched to their raw muons [GeV]')\n",
    "plt.ylabel('Number of muons')\n",
    "_ = plt.title('The effect of muon calibration on muon $p_T$ in $Z\\\\rightarrow ee$ events')"
   ]
  },
  {
   "cell_type": "markdown",
   "metadata": {},
   "source": [
    "If we instead want a particular systematic error, we need only name that error to get it back. Knowing what the names of the systematic errors, however, is not something that can be programmatically determined ahead of time. See the further information section at the end of this chapter to links to the ATLAS muon calibration info twiki."
   ]
  },
  {
   "cell_type": "code",
   "execution_count": 10,
   "metadata": {},
   "outputs": [],
   "source": [
    "sys_muon = (calib_tools.query_sys_error(ds, 'MUON_ID__1up')\n",
    "           .Select(lambda e: e.Muons())\n",
    "           .Select(lambda l_muons: [m for m in l_muons if m.pt() > 30000.0])\n",
    "           .Select(lambda l_muons: {\n",
    "               'pt': [m.pt() / 1000.0 for m in l_muons],\n",
    "               'eta': [m.eta() for m in l_muons],\n",
    "               'phi': [m.phi() for m in l_muons],\n",
    "           })\n",
    "           .AsAwkwardArray()\n",
    "           .value())"
   ]
  },
  {
   "cell_type": "code",
   "execution_count": 11,
   "metadata": {},
   "outputs": [],
   "source": [
    "sys_muons_matched = match_objects(muons, sys_muon)"
   ]
  },
  {
   "cell_type": "code",
   "execution_count": 12,
   "metadata": {},
   "outputs": [
    {
     "data": {
      "image/png": "[encoded data removed]",
      "text/plain": [
       "<Figure size 432x288 with 1 Axes>"
      ]
     },
     "metadata": {
      "needs_background": "light"
     },
     "output_type": "display_data"
    }
   ],
   "source": [
    "plt.hist(ak.flatten(muons.pt-sys_muons_matched.pt)/1000.0, bins=50, range=(-0.002, 0.002))\n",
    "plt.xlabel('$\\Delta p_T$ for calibrated muons matched to their reco stat muons [MeV]')\n",
    "plt.ylabel('Number of muons')\n",
    "_ = plt.title('The effect of a muon calibration sys error on muon $p_T$ in $Z\\\\rightarrow ee$ events')"
   ]
  },
  {
   "cell_type": "markdown",
   "metadata": {},
   "source": [
    "## The Data Model\n",
    "\n",
    "The data model when this documentation was last built is."
   ]
  },
  {
   "cell_type": "code",
   "execution_count": 13,
   "metadata": {},
   "outputs": [
    {
     "name": "stdout",
     "output_type": "stream",
     "text": [
      "Help on class Muon_v1 in module func_adl_servicex_xaodr21.xAOD.muon_v1:\n",
      "\n",
      "class Muon_v1(builtins.object)\n",
      " |  A class\n",
      " |  \n",
      " |  Methods defined here:\n",
      " |  \n",
      " |  charge(self) -> 'float'\n",
      " |      A method\n",
      " |  \n",
      " |  clearDecorations(self) -> 'bool'\n",
      " |      A method\n",
      " |  \n",
      " |  cluster(self) -> 'func_adl_servicex_xaodr21.xAOD.calocluster_v1.CaloCluster_v1'\n",
      " |      A method\n",
      " |  \n",
      " |  clusterLink(self) -> 'func_adl_servicex_xaodr21.elementlink_datavector_xaod_calocluster_v1__.ElementLink_DataVector_xAOD_CaloCluster_v1__'\n",
      " |      A method\n",
      " |  \n",
      " |  combinedTrackParticleLink(self) -> 'func_adl_servicex_xaodr21.elementlink_datavector_xaod_trackparticle_v1__.ElementLink_DataVector_xAOD_TrackParticle_v1__'\n",
      " |      A method\n",
      " |  \n",
      " |  e(self) -> 'float'\n",
      " |      A method\n",
      " |  \n",
      " |  eta(self) -> 'float'\n",
      " |      A method\n",
      " |  \n",
      " |  extrapolatedMuonSpectrometerTrackParticleLink(self) -> 'func_adl_servicex_xaodr21.elementlink_datavector_xaod_trackparticle_v1__.ElementLink_DataVector_xAOD_TrackParticle_v1__'\n",
      " |      A method\n",
      " |  \n",
      " |  hasNonConstStore(self) -> 'bool'\n",
      " |      A method\n",
      " |  \n",
      " |  hasStore(self) -> 'bool'\n",
      " |      A method\n",
      " |  \n",
      " |  inDetTrackParticleLink(self) -> 'func_adl_servicex_xaodr21.elementlink_datavector_xaod_trackparticle_v1__.ElementLink_DataVector_xAOD_TrackParticle_v1__'\n",
      " |      A method\n",
      " |  \n",
      " |  index(self) -> 'int'\n",
      " |      A method\n",
      " |  \n",
      " |  m(self) -> 'float'\n",
      " |      A method\n",
      " |  \n",
      " |  msOnlyExtrapolatedMuonSpectrometerTrackParticleLink(self) -> 'func_adl_servicex_xaodr21.elementlink_datavector_xaod_trackparticle_v1__.ElementLink_DataVector_xAOD_TrackParticle_v1__'\n",
      " |      A method\n",
      " |  \n",
      " |  muonSegment(self, i: 'int') -> 'func_adl_servicex_xaodr21.xAOD.muonsegment_v1.MuonSegment_v1'\n",
      " |      A method\n",
      " |  \n",
      " |  muonSegmentLink(self, i: 'int') -> 'func_adl_servicex_xaodr21.elementlink_datavector_xaod_muonsegment_v1__.ElementLink_DataVector_xAOD_MuonSegment_v1__'\n",
      " |      A method\n",
      " |  \n",
      " |  muonSegmentLinks(self) -> 'func_adl_servicex_xaodr21.vector_elementlink_datavector_xaod_muonsegment_v1___.vector_ElementLink_DataVector_xAOD_MuonSegment_v1___'\n",
      " |      A method\n",
      " |  \n",
      " |  muonSpectrometerTrackParticleLink(self) -> 'func_adl_servicex_xaodr21.elementlink_datavector_xaod_trackparticle_v1__.ElementLink_DataVector_xAOD_TrackParticle_v1__'\n",
      " |      A method\n",
      " |  \n",
      " |  nMuonSegments(self) -> 'int'\n",
      " |      A method\n",
      " |  \n",
      " |  p4(self) -> 'func_adl_servicex_xaodr21.tlorentzvector.TLorentzVector'\n",
      " |      A method\n",
      " |  \n",
      " |  passesHighPtCuts(self) -> 'bool'\n",
      " |      A method\n",
      " |  \n",
      " |  passesIDCuts(self) -> 'bool'\n",
      " |      A method\n",
      " |  \n",
      " |  phi(self) -> 'float'\n",
      " |      A method\n",
      " |  \n",
      " |  primaryTrackParticle(self) -> 'func_adl_servicex_xaodr21.xAOD.trackparticle_v1.TrackParticle_v1'\n",
      " |      A method\n",
      " |  \n",
      " |  primaryTrackParticleLink(self) -> 'func_adl_servicex_xaodr21.elementlink_datavector_xaod_trackparticle_v1__.ElementLink_DataVector_xAOD_TrackParticle_v1__'\n",
      " |      A method\n",
      " |  \n",
      " |  pt(self) -> 'float'\n",
      " |      A method\n",
      " |  \n",
      " |  rapidity(self) -> 'float'\n",
      " |      A method\n",
      " |  \n",
      " |  usingPrivateStore(self) -> 'bool'\n",
      " |      A method\n",
      " |  \n",
      " |  usingStandaloneStore(self) -> 'bool'\n",
      " |      A method\n",
      " |  \n",
      " |  ----------------------------------------------------------------------\n",
      " |  Readonly properties defined here:\n",
      " |  \n",
      " |  auxdataConst\n",
      " |      A method\n",
      " |  \n",
      " |  isAvailable\n",
      " |      A method\n",
      " |  \n",
      " |  ----------------------------------------------------------------------\n",
      " |  Data descriptors defined here:\n",
      " |  \n",
      " |  __dict__\n",
      " |      dictionary for instance variables (if defined)\n",
      " |  \n",
      " |  __weakref__\n",
      " |      list of weak references to the object (if defined)\n",
      "\n"
     ]
    }
   ],
   "source": [
    "from func_adl_servicex_xaodr21.xAOD.muon_v1 import Muon_v1\n",
    "help(Muon_v1)"
   ]
  },
  {
   "cell_type": "markdown",
   "metadata": {},
   "source": [
    "## Further Information\n",
    "\n",
    "* The [`xAOD::Muon_v1` C++ header file](https://gitlab.cern.ch/atlas/athena/-/blob/21.2/Event/xAOD/xAODMuon/xAODMuon/versions/Muon_v1.h) with all the inline documentation.\n",
    "* The [Muon Recommendation Pages for R21](https://twiki.cern.ch/twiki/bin/view/AtlasProtected/MCPAnalysisGuidelinesMC16) on the ATLAS TWiki"
   ]
  },
  {
   "cell_type": "markdown",
   "metadata": {},
   "source": []
  }
 ],
 "metadata": {
  "interpreter": {
   "hash": "4373964a7db18cf126f92f2b701a24b82fcc263e81b1ec161a400db7f7fa2af5"
  },
  "kernelspec": {
   "display_name": "Python 3.9.6 64-bit (system)",
   "name": "python3"
  },
  "language_info": {
   "codemirror_mode": {
    "name": "ipython",
    "version": 3
   },
   "file_extension": ".py",
   "mimetype": "text/x-python",
   "name": "python",
   "nbconvert_exporter": "python",
   "pygments_lexer": "ipython3",
   "version": "3.9.6"
  },
  "orig_nbformat": 4
 },
 "nbformat": 4,
 "nbformat_minor": 2
}
