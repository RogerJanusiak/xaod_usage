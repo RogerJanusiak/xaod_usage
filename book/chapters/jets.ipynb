{
 "cells": [
  {
   "cell_type": "markdown",
   "metadata": {},
   "source": [
    "# The Jet Collection\n",
    "\n",
    "The Jet collections is one of the more sophisticated collections in ATLAS. Below we'll look at:\n",
    "\n",
    "* Getting jet attributes like $p_T$ and $\\eta$\n",
    "* Getting the constituents that went into building the jet\n",
    "* How calibrations are applied, and how one can get at the systematic variations"
   ]
  },
  {
   "cell_type": "code",
   "execution_count": null,
   "metadata": {},
   "outputs": [],
   "source": [
    "from config import ds_zee as ds\n",
    "from config import ds_jz3_exot15\n",
    "import matplotlib.pyplot as plt\n",
    "import awkward as ak\n",
    "import numpy as np\n",
    "from func_adl_servicex_xaodr21.xAOD.jet_v1 import cpp_float"
   ]
  },
  {
   "cell_type": "code",
   "execution_count": null,
   "metadata": {},
   "outputs": [],
   "source": [
    "jets = (ds\n",
    "        .SelectMany(lambda e: e.Jets(\"AntiKt4EMPFlowJets\"))\n",
    "        .Where(lambda j: (j.pt() / 1000) > 30)\n",
    "        .Select(lambda j: j.pt() / 1000.0)\n",
    "        .AsAwkwardArray('JetPt')\n",
    "        .value())"
   ]
  },
  {
   "cell_type": "code",
   "execution_count": null,
   "metadata": {},
   "outputs": [],
   "source": [
    "plt.hist(jets.JetPt, bins=100, range=(0, 100))\n",
    "plt.xlabel('Jet $p_T$ [GeV]')\n",
    "plt.ylabel('Number of jets')\n",
    "_ = plt.title('Jet $p_T$ distribution for $Z\\\\rightarrow ee$ events')"
   ]
  },
  {
   "cell_type": "markdown",
   "metadata": {},
   "source": [
    "## Jet Constituents\n",
    "\n",
    "Jets are composed of `TopoClusters` in ATLAS, unfortunately, they are often skimmed away. They are not present, for example, in `DAOD_PHYS`, which is the skim being used here. We'll have to pull from a different file instead."
   ]
  },
  {
   "cell_type": "code",
   "execution_count": null,
   "metadata": {},
   "outputs": [],
   "source": [
    "topo_clusters = (ds_jz3_exot15\n",
    "                    .SelectMany(lambda e: e.Jets(\"AntiKt4EMTopoJets\", truth_jets=\"AntiKt4TruthJets\"))\n",
    "                    .SelectMany(lambda j: j.getConstituents())\n",
    "                    .Select(lambda tc: tc.pt())\n",
    "                    .AsAwkwardArray('JetClusterPt')\n",
    "                    .value()\n",
    "                )"
   ]
  },
  {
   "cell_type": "code",
   "execution_count": null,
   "metadata": {},
   "outputs": [],
   "source": [
    "plt.hist(topo_clusters.JetClusterPt/1000.0, bins=100, range=(0, 20))\n",
    "plt.xlabel('Jet Cluster $p_T$ [GeV]')\n",
    "plt.ylabel('Number of jets')\n",
    "_ = plt.title('Jet Cluster $p_T$ distribution for jets in $Z\\\\rightarrow ee$ events')"
   ]
  },
  {
   "cell_type": "markdown",
   "metadata": {},
   "source": [
    "## Jet Attributes"
   ]
  },
  {
   "cell_type": "code",
   "execution_count": null,
   "metadata": {},
   "outputs": [],
   "source": [
    "jets = (ds\n",
    "        .SelectMany(lambda e: e.Jets(\"AntiKt4EMPFlowJets\"))\n",
    "        .Where(lambda j: (j.pt() / 1000) > 30)\n",
    "        .Select(lambda j: j.getAttribute[cpp_float]('moment_name'))\n",
    "        .Select(lambda v: v+1)\n",
    "        .AsAwkwardArray('moment')\n",
    "        .value())"
   ]
  },
  {
   "cell_type": "markdown",
   "metadata": {},
   "source": [
    "## Calibration\n",
    "\n",
    "By default the jets we pulled from above are calibrated, and the best central value for the jet collection you request is returned. This section shows you how to:\n",
    "\n",
    "* Pull out the raw, uncalibrated jets\n",
    "* How to get a particular systematic variation\n",
    "\n",
    "Because we want to do a comparison, and the jet corrections change the number of jets, we will need to do jet matching, which means doing it inside each event. Lets get the default calibration with eta and phi:"
   ]
  },
  {
   "cell_type": "code",
   "execution_count": null,
   "metadata": {},
   "outputs": [],
   "source": [
    "jets = (ds\n",
    "        .Select(lambda e: e.Jets(\"AntiKt4EMPFlowJets\")\n",
    "                           .Where(lambda j: (j.pt() / 1000) > 30))\n",
    "        .Select(lambda jets: {\n",
    "            'pt': jets.Select(lambda j: j.pt() / 1000.0),\n",
    "            'eta': jets.Select(lambda j: j.eta()),\n",
    "            'phi': jets.Select(lambda j: j.phi()),\n",
    "        })\n",
    "        .AsAwkwardArray()\n",
    "        .value())"
   ]
  },
  {
   "cell_type": "markdown",
   "metadata": {},
   "source": [
    "To grab the raw jets (without calibration) we just set the `calibrated` parameter to `False` (there is very little reason one will do this normally):"
   ]
  },
  {
   "cell_type": "code",
   "execution_count": null,
   "metadata": {},
   "outputs": [],
   "source": [
    "raw_jets = (ds\n",
    "           .Select(lambda e: e.Jets(\"AntiKt4EMPFlowJets\", calibration=None)\n",
    "                              .Where(lambda j: (j.pt() / 1000) > 30))\n",
    "           .Select(lambda jets: {\n",
    "                'pt': jets.Select(lambda j: j.pt() / 1000.0),\n",
    "                'eta': jets.Select(lambda j: j.eta()),\n",
    "                'phi': jets.Select(lambda j: j.phi()),\n",
    "           })\n",
    "           .AsAwkwardArray()\n",
    "           .value())"
   ]
  },
  {
   "cell_type": "markdown",
   "metadata": {},
   "source": [
    "The number of raw jets and the number of calibrated jets are quite different from the number of raw jets, so we'll need to match them in $\\eta$ and $\\phi$:"
   ]
  },
  {
   "cell_type": "code",
   "execution_count": null,
   "metadata": {},
   "outputs": [],
   "source": [
    "len(raw_jets), len(jets)"
   ]
  },
  {
   "cell_type": "code",
   "execution_count": null,
   "metadata": {},
   "outputs": [],
   "source": [
    "def match(jets, jets_to_match):\n",
    "    'Find the closest eta/phi jet in jets_to_match for each jet in jets'\n",
    "\n",
    "    to_match_pt = jets_to_match.pt\n",
    "    to_match_eta = jets_to_match.eta\n",
    "    to_match_phi = jets_to_match.phi\n",
    "    jet_eta = jets.eta\n",
    "    jet_phi = jets.phi\n",
    "\n",
    "    pair_eta = ak.cartesian([jet_eta, to_match_eta], axis=1, nested=True)\n",
    "    pair_phi = ak.cartesian([jet_phi, to_match_phi], axis=1, nested=True)\n",
    "\n",
    "    delta_eta = np.abs(pair_eta[:, :, :][\"0\"] - pair_eta[:, :, :][\"1\"])\n",
    "    # TODO: Missing wrap around fro phi\n",
    "    delta_phi = np.abs(pair_phi[:, :, :][\"0\"] - pair_phi[:, :, :][\"1\"])\n",
    "\n",
    "    delta = delta_eta**2 + delta_phi**2\n",
    "\n",
    "    # TODO: remove anything larger that 0.2*0.2\n",
    "    best_match = ak.argmin(delta, axis=2)\n",
    "\n",
    "    return ak.Record({\"eta\": to_match_eta[best_match], \"phi\": to_match_phi[best_match], \"pt\": to_match_pt[best_match]})\n",
    "\n",
    "raw_jets_matched = match(jets, raw_jets)"
   ]
  },
  {
   "cell_type": "code",
   "execution_count": null,
   "metadata": {},
   "outputs": [],
   "source": [
    "plt.hist(ak.flatten(jets.pt-raw_jets_matched.pt)/1000.0, bins=100, range=(-0.1, 0.1))\n",
    "plt.xlabel('$\\Delta p_T$ for calibrated jets matched to their raw jets [GeV]')\n",
    "plt.ylabel('Number of jets')\n",
    "_ = plt.title('The effect of jet calibration on jet $p_T$ in $Z\\\\rightarrow ee$ events')"
   ]
  },
  {
   "cell_type": "markdown",
   "metadata": {},
   "source": [
    "If we instead want a particular systematic error, we need only name that error to get it back. Knowing what the names of the systematic errors, however, is not something that can be programmatically determined ahead of time. See the further information section at the end of this chapter to links to the ATLAS jet calibration info twiki."
   ]
  },
  {
   "cell_type": "code",
   "execution_count": null,
   "metadata": {},
   "outputs": [],
   "source": [
    "sys_jets = (ds\n",
    "           .Select(lambda e: e.Jets(\"AntiKt4EMPFlowJets\", calibration=\"JET_Pileup_PtTerm__1up\")\n",
    "                              .Where(lambda j: (j.pt() / 1000) > 30))\n",
    "           .Select(lambda jets: {\n",
    "                'pt': jets.Select(lambda j: j.pt() / 1000.0),\n",
    "                'eta': jets.Select(lambda j: j.eta()),\n",
    "                'phi': jets.Select(lambda j: j.phi()),\n",
    "           })\n",
    "           .AsAwkwardArray()\n",
    "           .value())"
   ]
  },
  {
   "cell_type": "code",
   "execution_count": null,
   "metadata": {},
   "outputs": [],
   "source": [
    "sys_jets_matched = match(jets, sys_jets)"
   ]
  },
  {
   "cell_type": "code",
   "execution_count": null,
   "metadata": {},
   "outputs": [],
   "source": [
    "plt.hist(ak.flatten(jets.pt-sys_jets_matched.pt)/1000.0, bins=100, range=(-0.005, 0.005))\n",
    "plt.xlabel('$\\Delta p_T$ for calibrated jets matched to their eta calib jets [GeV]')\n",
    "plt.ylabel('Number of jets')\n",
    "_ = plt.title('The effect of a jet calibration sys error on jet $p_T$ in $Z\\\\rightarrow ee$ events')"
   ]
  },
  {
   "cell_type": "markdown",
   "metadata": {},
   "source": [
    "Currently you only get the calibration constants that are built into the release. If you need to pin a particular calibration, get in touch."
   ]
  },
  {
   "cell_type": "markdown",
   "metadata": {},
   "source": [
    "## The Datamodel\n",
    "\n",
    "The data model when this documentation was last built was:"
   ]
  },
  {
   "cell_type": "code",
   "execution_count": null,
   "metadata": {},
   "outputs": [],
   "source": [
    "from func_adl_servicex_xaodr21.xAOD.jet_v1 import Jet_v1\n",
    "help(Jet_v1)"
   ]
  },
  {
   "cell_type": "code",
   "execution_count": null,
   "metadata": {},
   "outputs": [],
   "source": [
    "from func_adl_servicex_xaodr21.xAOD.jetconstituent import JetConstituent\n",
    "help(JetConstituent)"
   ]
  },
  {
   "cell_type": "markdown",
   "metadata": {},
   "source": [
    "## Further Information\n",
    "\n",
    "* The [`xAOD::Jet_v1` C++ header file](https://gitlab.cern.ch/atlas/athena/-/blob/21.2/Event/xAOD/xAODJet/xAODJet/versions/Jet_v1.h) with all the inline documentation.\n",
    "* The [`xAOD::JetConstituent` C++ header File](https://gitlab.cern.ch/atlas/athena/-/blob/21.2/Event/xAOD/xAODJet/xAODJet/JetConstituentVector.h) with all the inline documentation.\n",
    "* The [Jet ET-Miss Recommendation Pages for R21](https://twiki.cern.ch/twiki/bin/view/AtlasProtected/JetEtmissRecommendationsR21) on the ATLAS TWiki"
   ]
  },
  {
   "cell_type": "markdown",
   "metadata": {},
   "source": []
  }
 ],
 "metadata": {
  "interpreter": {
   "hash": "4373964a7db18cf126f92f2b701a24b82fcc263e81b1ec161a400db7f7fa2af5"
  },
  "kernelspec": {
   "display_name": "Python 3.9.6 64-bit (system)",
   "name": "python3"
  },
  "language_info": {
   "codemirror_mode": {
    "name": "ipython",
    "version": 3
   },
   "file_extension": ".py",
   "mimetype": "text/x-python",
   "name": "python",
   "nbconvert_exporter": "python",
   "pygments_lexer": "ipython3",
   "version": "3.9.6"
  },
  "orig_nbformat": 4
 },
 "nbformat": 4,
 "nbformat_minor": 2
}
