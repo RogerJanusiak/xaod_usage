{
 "cells": [
  {
   "cell_type": "markdown",
   "metadata": {},
   "source": [
    "# The Electron Collection - Not Done\n",
    "\n",
    "Electrons are single-track particles. They are reconstructed with energy deposits in the calorimeter and an associated track.\n",
    "\n",
    "Outstanding:\n",
    "* Need to understand tags - we can't re-run this on derivations (basically, nothing here works yet)"
   ]
  },
  {
   "cell_type": "code",
   "execution_count": 1,
   "metadata": {},
   "outputs": [
    {
     "name": "stderr",
     "output_type": "stream",
     "text": [
      "Found backend type matching \"xaod\". Matching by type is depreciated. Please switch to using the \"name\" keyword in your servicex.yaml file.\n"
     ]
    }
   ],
   "source": [
    "from func_adl_servicex_xaodr21 import SXDSAtlasxAODR21\n",
    "import matplotlib.pyplot as plt\n",
    "from config import ds\n",
    "import awkward as ak\n",
    "import numpy as np"
   ]
  },
  {
   "cell_type": "markdown",
   "metadata": {},
   "source": [
    "The default electron we fetch is the so-called `MediumLHElectron` muon with `GradientMedium` isolation."
   ]
  },
  {
   "cell_type": "code",
   "execution_count": 2,
   "metadata": {},
   "outputs": [],
   "source": [
    "import logging\n",
    "logging.basicConfig()\n",
    "logging.getLogger(\"func_adl_xAOD.common.local_dataset\").setLevel(level=logging.DEBUG)\n",
    "from servicex import ignore_cache\n",
    "with ignore_cache():\n",
    "    electrons = (ds\n",
    "                .SelectMany(lambda e: e.Electrons(\"Electrons\", isolation=\"GradientLoose\"))\n",
    "                .Select(lambda m: m.pt() / 1000.0)\n",
    "                .AsAwkwardArray('pt')\n",
    "                .value())"
   ]
  },
  {
   "cell_type": "code",
   "execution_count": 3,
   "metadata": {},
   "outputs": [
    {
     "data": {
      "image/png": "[encoded data removed]",
      "text/plain": [
       "<Figure size 432x288 with 1 Axes>"
      ]
     },
     "metadata": {
      "needs_background": "light"
     },
     "output_type": "display_data"
    }
   ],
   "source": [
    "plt.hist(electrons.pt, bins=100, range=(0, 100))\n",
    "plt.xlabel('Electron $p_T$ [GeV]')\n",
    "plt.ylabel('Number of electrons')\n",
    "_ = plt.title('Electron $p_T$ distribution for $Z\\\\rightarrow ee$ events')"
   ]
  },
  {
   "cell_type": "markdown",
   "metadata": {},
   "source": [
    "## Muon Types\n",
    "\n",
    "Muons come in several different flavors. In this sample with very few muons, we can look at the different $\\eta$ distributions for what muons are there:"
   ]
  },
  {
   "cell_type": "code",
   "execution_count": null,
   "metadata": {},
   "outputs": [],
   "source": [
    "muons = (ds\n",
    "        .Select(lambda e: {\n",
    "            'tight_eta': e.Muons(\"Muons\", working_point='Tight').Select(lambda m: m.eta()),\n",
    "            'loose_eta': e.Muons(\"Muons\", working_point='Loose').Select(lambda m: m.eta()),\n",
    "            'medium_eta': e.Muons(\"Muons\", working_point='Medium').Select(lambda m: m.eta()),\n",
    "        })\n",
    "        .AsAwkwardArray()\n",
    "        .value())"
   ]
  },
  {
   "cell_type": "code",
   "execution_count": null,
   "metadata": {},
   "outputs": [],
   "source": [
    "plt.hist(ak.flatten(muons.loose_eta), bins=50, range=(-3, 3), label='loose')\n",
    "plt.hist(ak.flatten(muons.medium_eta), bins=50, range=(-3, 3), label='medium')\n",
    "plt.hist(ak.flatten(muons.tight_eta), bins=50, range=(-3, 3), label='tight')\n",
    "plt.legend()"
   ]
  },
  {
   "cell_type": "markdown",
   "metadata": {},
   "source": [
    "## Calibration\n",
    "\n",
    "By default the muons we pulled are `Medium` quality and calibrated. One can request different systematic errors using the `calibration` argument to the `Muons` method."
   ]
  },
  {
   "cell_type": "code",
   "execution_count": null,
   "metadata": {},
   "outputs": [],
   "source": [
    "import logging\n",
    "logging.basicConfig()\n",
    "logging.getLogger(\"func_adl_xAOD.common.local_dataset\").setLevel(level=logging.DEBUG)\n",
    "from servicex import ignore_cache\n",
    "with ignore_cache():\n",
    "    muons = (ds\n",
    "            .SelectMany(lambda e: e.Muons(\"Muons\"))\n",
    "            .Select(lambda j: {\n",
    "                'pt': j.pt() / 1000.0,\n",
    "                'eta': j.eta(),\n",
    "                'phi': j.phi(),\n",
    "            })\n",
    "            .AsAwkwardArray()\n",
    "            .value())"
   ]
  },
  {
   "cell_type": "markdown",
   "metadata": {},
   "source": [
    "To grab the raw jets (without calibration) we just set the `calibrated` parameter to `False` (there is very little reason one will do this normally):"
   ]
  },
  {
   "cell_type": "code",
   "execution_count": null,
   "metadata": {},
   "outputs": [],
   "source": [
    "raw_muons = (ds\n",
    "             .SelectMany(lambda e: e.Muons(\"Muons\", calibration=None))\n",
    "             .Select(lambda j: {\n",
    "                 'pt': j.pt() / 1000.0,\n",
    "                 'eta': j.eta(),\n",
    "                 'phi': j.phi(),\n",
    "             })\n",
    "             .AsAwkwardArray()\n",
    "             .value())"
   ]
  },
  {
   "cell_type": "markdown",
   "metadata": {},
   "source": [
    "The number of raw jets and the number of calibrated jets are quite different from the number of raw jets, so we'll need to match them in $\\eta$ and $\\phi$:"
   ]
  },
  {
   "cell_type": "code",
   "execution_count": null,
   "metadata": {},
   "outputs": [],
   "source": [
    "len(raw_muons), len(muons)"
   ]
  },
  {
   "cell_type": "code",
   "execution_count": null,
   "metadata": {},
   "outputs": [],
   "source": [
    "def match(jets, jets_to_match):\n",
    "    'Find the closest eta/phi jet in jets_to_match for each jet in jets'\n",
    "\n",
    "    by_jets = ak.cartesian([jets, jets_to_match], axis=0, nested=True)\n",
    "    d_eta = np.abs(by_jets[:, :][\"0\"].eta - by_jets[0, :][\"1\"].eta)\n",
    "    # TODO: Account for wrap around in phi\n",
    "    d_phi = np.abs(by_jets[:, :][\"0\"].phi - by_jets[0, :][\"1\"].phi)\n",
    "    delta = d_eta + d_phi\n",
    "\n",
    "    # TODO: Window out any match over 0.2*0.2 in eta/phi\n",
    "    best_match = ak.argmin(delta, axis=1)\n",
    "    return jets_to_match[best_match]\n",
    "\n",
    "raw_muons_matched = match(muons, raw_muons)"
   ]
  },
  {
   "cell_type": "markdown",
   "metadata": {},
   "source": [
    "Note the units along the x-axis here!! We are using **MeV** not *GeV*!"
   ]
  },
  {
   "cell_type": "code",
   "execution_count": null,
   "metadata": {},
   "outputs": [],
   "source": [
    "plt.hist((muons.pt-raw_muons_matched.pt), bins=50, range=(-0.5, 0.5))\n",
    "plt.xlabel('$\\Delta p_T$ for calibrated muons matched to their raw muons [MeV]')\n",
    "plt.ylabel('Number of muons')\n",
    "_ = plt.title('The effect of muon calibration on muon $p_T$ in $Z\\\\rightarrow ee$ events')"
   ]
  },
  {
   "cell_type": "markdown",
   "metadata": {},
   "source": [
    "If we instead want a particular systematic error, we need only name that error to get it back. Knowing what the names of the systematic errors, however, is not something that can be programmatically determined ahead of time. See the further information section at the end of this chapter to links to the ATLAS muon calibration info twiki."
   ]
  },
  {
   "cell_type": "code",
   "execution_count": null,
   "metadata": {},
   "outputs": [],
   "source": [
    "sys_muon = (ds\n",
    "           .SelectMany(lambda e: e.Muons(\"Muons\", calibration=\"MUON_EFF_RECO_STAT__1up\"))\n",
    "           .Select(lambda m: {\n",
    "               'pt': m.pt() / 1000.0,\n",
    "               'eta': m.eta(),\n",
    "               'phi': m.phi(),\n",
    "           })\n",
    "           .AsAwkwardArray()\n",
    "           .value())"
   ]
  },
  {
   "cell_type": "code",
   "execution_count": null,
   "metadata": {},
   "outputs": [],
   "source": [
    "sys_muons_matched = match(muon, sys_muon)"
   ]
  },
  {
   "cell_type": "code",
   "execution_count": null,
   "metadata": {},
   "outputs": [],
   "source": [
    "plt.hist((muons.pt-sys_muons_matched.pt)/1000.0, bins=50, range=(-0.005, 0.005))\n",
    "plt.xlabel('$\\Delta p_T$ for calibrated muons matched to their reco stat muons [GeV]')\n",
    "plt.ylabel('Number of muons')\n",
    "_ = plt.title('The effect of a muon calibration sys error on muon $p_T$ in $Z\\\\rightarrow ee$ events')"
   ]
  },
  {
   "cell_type": "markdown",
   "metadata": {},
   "source": [
    "Currently you only get the calibration that is loaded with the release. Selecting a particular calibration is a future feature!"
   ]
  },
  {
   "cell_type": "markdown",
   "metadata": {},
   "source": [
    "## The Data Model\n",
    "\n",
    "The data model when this documentation was last built is."
   ]
  },
  {
   "cell_type": "code",
   "execution_count": null,
   "metadata": {},
   "outputs": [],
   "source": [
    "from func_adl_servicex_xaodr21.xAOD.electron_v1 import Electron_v1\n",
    "help(Electron_v1)"
   ]
  },
  {
   "cell_type": "markdown",
   "metadata": {},
   "source": [
    "## Further Information\n",
    "\n",
    "* The [`xAOD::Electron_v1` C++ header file](https://gitlab.cern.ch/atlas/athena/-/blob/21.2/Event/xAOD/xAODEgamma/xAODEgamma/versions/Electron_v1.h) with all the inline documentation.\n",
    "* The [Electron Recommendation Pages for R21](https://twiki.cern.ch/twiki/bin/view/AtlasProtected/LatestRecommendationsElectronIDRun2) on the ATLAS TWiki\n",
    "* The [Electron Working Points Pages for R21](https://twiki.cern.ch/twiki/bin/view/AtlasProtected/EGammaIdentificationRun2) on the ATLAS Twiki"
   ]
  }
 ],
 "metadata": {
  "interpreter": {
   "hash": "4373964a7db18cf126f92f2b701a24b82fcc263e81b1ec161a400db7f7fa2af5"
  },
  "kernelspec": {
   "display_name": "Python 3.9.6 64-bit (system)",
   "name": "python3"
  },
  "language_info": {
   "codemirror_mode": {
    "name": "ipython",
    "version": 3
   },
   "file_extension": ".py",
   "mimetype": "text/x-python",
   "name": "python",
   "nbconvert_exporter": "python",
   "pygments_lexer": "ipython3",
   "version": "3.9.6"
  },
  "orig_nbformat": 4
 },
 "nbformat": 4,
 "nbformat_minor": 2
}
