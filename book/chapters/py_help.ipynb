{
 "cells": [
  {
   "cell_type": "markdown",
   "metadata": {},
   "source": [
    "# Using Python Help\n",
    "\n",
    "You can use python help for a lot of this"
   ]
  },
  {
   "cell_type": "code",
   "execution_count": 2,
   "metadata": {},
   "outputs": [],
   "source": [
    "from func_adl_servicex_xaodr21.event_collection import Event"
   ]
  },
  {
   "cell_type": "code",
   "execution_count": 3,
   "metadata": {},
   "outputs": [
    {
     "name": "stdout",
     "output_type": "stream",
     "text": [
      "Help on class Event in module func_adl_servicex_xaodr21.event_collection:\n",
      "\n",
      "class Event(builtins.object)\n",
      " |  Methods defined here:\n",
      " |  \n",
      " |  BTagVertexs(self) -> Iterator[func_adl_servicex_xaodr21.xAOD.btagvertex_v1.BTagVertex_v1]\n",
      " |  \n",
      " |  BTaggings(self) -> Iterator[func_adl_servicex_xaodr21.xAOD.btagging_v1.BTagging_v1]\n",
      " |  \n",
      " |  CaloClusters(self) -> Iterator[func_adl_servicex_xaodr21.xAOD.calocluster_v1.CaloCluster_v1]\n",
      " |  \n",
      " |  CaloTowers(self) -> Iterator[func_adl_servicex_xaodr21.xAOD.calotower_v1.CaloTower_v1]\n",
      " |  \n",
      " |  DiTauJets(self) -> Iterator[func_adl_servicex_xaodr21.xAOD.ditaujet_v1.DiTauJet_v1]\n",
      " |  \n",
      " |  Egammas(self) -> Iterator[func_adl_servicex_xaodr21.xAOD.egamma_v1.Egamma_v1]\n",
      " |  \n",
      " |  Electrons(self) -> Iterator[func_adl_servicex_xaodr21.xAOD.electron_v1.Electron_v1]\n",
      " |  \n",
      " |  EventInfos(self) -> Iterator[func_adl_servicex_xaodr21.xAOD.eventinfo_v1.EventInfo_v1]\n",
      " |  \n",
      " |  IParticles(self) -> Iterator[func_adl_servicex_xaodr21.xAOD.iparticle.IParticle]\n",
      " |  \n",
      " |  Jets(self) -> Iterator[func_adl_servicex_xaodr21.xAOD.jet_v1.Jet_v1]\n",
      " |  \n",
      " |  MissingET(self) -> Iterator[func_adl_servicex_xaodr21.xAOD.missinget_v1.MissingET_v1]\n",
      " |  \n",
      " |  MuonSegments(self) -> Iterator[func_adl_servicex_xaodr21.xAOD.muonsegment_v1.MuonSegment_v1]\n",
      " |  \n",
      " |  Muons(self) -> Iterator[func_adl_servicex_xaodr21.xAOD.muon_v1.Muon_v1]\n",
      " |  \n",
      " |  NeutralParticles(self) -> Iterator[func_adl_servicex_xaodr21.xAOD.neutralparticle_v1.NeutralParticle_v1]\n",
      " |  \n",
      " |  PFOs(self) -> Iterator[func_adl_servicex_xaodr21.xAOD.pfo_v1.PFO_v1]\n",
      " |  \n",
      " |  Photons(self) -> Iterator[func_adl_servicex_xaodr21.xAOD.photon_v1.Photon_v1]\n",
      " |  \n",
      " |  SlowMuons(self) -> Iterator[func_adl_servicex_xaodr21.xAOD.slowmuon_v1.SlowMuon_v1]\n",
      " |  \n",
      " |  TauJets(self) -> Iterator[func_adl_servicex_xaodr21.xAOD.taujet_v3.TauJet_v3]\n",
      " |  \n",
      " |  TauTracks(self) -> Iterator[func_adl_servicex_xaodr21.xAOD.tautrack_v1.TauTrack_v1]\n",
      " |  \n",
      " |  TrackCaloClusters(self) -> Iterator[func_adl_servicex_xaodr21.xAOD.trackcalocluster_v1.TrackCaloCluster_v1]\n",
      " |  \n",
      " |  TrackParticles(self) -> Iterator[func_adl_servicex_xaodr21.xAOD.trackparticle_v1.TrackParticle_v1]\n",
      " |  \n",
      " |  TruthEvents(self) -> Iterator[func_adl_servicex_xaodr21.xAOD.truthevent_v1.TruthEvent_v1]\n",
      " |  \n",
      " |  TruthParticles(self) -> Iterator[func_adl_servicex_xaodr21.xAOD.truthparticle_v1.TruthParticle_v1]\n",
      " |  \n",
      " |  TruthVertexs(self) -> Iterator[func_adl_servicex_xaodr21.xAOD.truthvertex_v1.TruthVertex_v1]\n",
      " |  \n",
      " |  Vertexs(self) -> Iterator[func_adl_servicex_xaodr21.xAOD.vertex_v1.Vertex_v1]\n",
      " |  \n",
      " |  ----------------------------------------------------------------------\n",
      " |  Data descriptors defined here:\n",
      " |  \n",
      " |  __dict__\n",
      " |      dictionary for instance variables (if defined)\n",
      " |  \n",
      " |  __weakref__\n",
      " |      list of weak references to the object (if defined)\n",
      "\n"
     ]
    }
   ],
   "source": [
    "help(Event)"
   ]
  },
  {
   "cell_type": "code",
   "execution_count": 5,
   "metadata": {},
   "outputs": [
    {
     "name": "stdout",
     "output_type": "stream",
     "text": [
      "Help on class Jet_v1 in module func_adl_servicex_xaodr21.xAOD.jet_v1:\n",
      "\n",
      "class Jet_v1(builtins.object)\n",
      " |  Data descriptors defined here:\n",
      " |  \n",
      " |  __dict__\n",
      " |      dictionary for instance variables (if defined)\n",
      " |  \n",
      " |  __weakref__\n",
      " |      list of weak references to the object (if defined)\n",
      "\n"
     ]
    }
   ],
   "source": [
    "from func_adl_servicex_xaodr21.xAOD import Jet_v1\n",
    "help(Jet_v1)"
   ]
  },
  {
   "cell_type": "code",
   "execution_count": null,
   "metadata": {},
   "outputs": [],
   "source": []
  }
 ],
 "metadata": {
  "interpreter": {
   "hash": "4373964a7db18cf126f92f2b701a24b82fcc263e81b1ec161a400db7f7fa2af5"
  },
  "kernelspec": {
   "display_name": "Python 3.9.6 64-bit (system)",
   "name": "python3"
  },
  "language_info": {
   "codemirror_mode": {
    "name": "ipython",
    "version": 3
   },
   "file_extension": ".py",
   "mimetype": "text/x-python",
   "name": "python",
   "nbconvert_exporter": "python",
   "pygments_lexer": "ipython3",
   "version": "3.9.6"
  },
  "orig_nbformat": 4
 },
 "nbformat": 4,
 "nbformat_minor": 2
}
