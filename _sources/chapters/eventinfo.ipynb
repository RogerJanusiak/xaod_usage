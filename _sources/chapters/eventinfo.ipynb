{
 "cells": [
  {
   "cell_type": "markdown",
   "metadata": {},
   "source": [
    "# Event Info\n",
    "\n",
    "The `EventInfo` object contains things like beam `xyz` and run number and event number. There is only one per event - so you do not extract it as a sequence, but as a single object."
   ]
  },
  {
   "cell_type": "code",
   "execution_count": 1,
   "metadata": {},
   "outputs": [],
   "source": [
    "from func_adl_servicex_xaodr21 import SXDSAtlasxAODR21\n",
    "import matplotlib.pyplot as plt\n",
    "from config import rucio_zee_r21_mc"
   ]
  },
  {
   "cell_type": "code",
   "execution_count": 2,
   "metadata": {},
   "outputs": [],
   "source": [
    "ds = SXDSAtlasxAODR21(rucio_zee_r21_mc, backend='dev_xaod')"
   ]
  },
  {
   "cell_type": "code",
   "execution_count": 3,
   "metadata": {},
   "outputs": [],
   "source": [
    "events = (ds\n",
    "        .Select(lambda e: e.EventInfo(\"EventInfo\").eventNumber())\n",
    "        .AsAwkwardArray('b_x')\n",
    "        .value())"
   ]
  },
  {
   "cell_type": "code",
   "execution_count": 4,
   "metadata": {},
   "outputs": [
    {
     "data": {
      "image/png": "[encoded data removed]",
      "text/plain": [
       "<Figure size 432x288 with 1 Axes>"
      ]
     },
     "metadata": {
      "needs_background": "light"
     },
     "output_type": "display_data"
    }
   ],
   "source": [
    "plt.hist(events.b_x, bins=100)\n",
    "plt.xlabel('Beam Position x [mm]')\n",
    "plt.ylabel('Number of events')\n",
    "_ = plt.title('Truth Missing $E_T$ distribution for $Z\\\\rightarrow ee$ events')"
   ]
  },
  {
   "cell_type": "markdown",
   "metadata": {},
   "source": [
    "## The Datamodel\n",
    "\n",
    "The data model when this documentation was last built was:"
   ]
  },
  {
   "cell_type": "code",
   "execution_count": 5,
   "metadata": {},
   "outputs": [
    {
     "name": "stdout",
     "output_type": "stream",
     "text": [
      "Help on class EventInfo_v1 in module func_adl_servicex_xaodr21.xAOD.eventinfo_v1:\n",
      "\n",
      "class EventInfo_v1(builtins.object)\n",
      " |  A class\n",
      " |  \n",
      " |  Methods defined here:\n",
      " |  \n",
      " |  actualInteractionsPerCrossing(self) -> float\n",
      " |      A method\n",
      " |  \n",
      " |  averageInteractionsPerCrossing(self) -> float\n",
      " |      A method\n",
      " |  \n",
      " |  bcid(self) -> int\n",
      " |      A method\n",
      " |  \n",
      " |  beamPosSigmaX(self) -> float\n",
      " |      A method\n",
      " |  \n",
      " |  beamPosSigmaXY(self) -> float\n",
      " |      A method\n",
      " |  \n",
      " |  beamPosSigmaY(self) -> float\n",
      " |      A method\n",
      " |  \n",
      " |  beamPosSigmaZ(self) -> float\n",
      " |      A method\n",
      " |  \n",
      " |  beamPosX(self) -> float\n",
      " |      A method\n",
      " |  \n",
      " |  beamPosY(self) -> float\n",
      " |      A method\n",
      " |  \n",
      " |  beamPosZ(self) -> float\n",
      " |      A method\n",
      " |  \n",
      " |  beamStatus(self) -> int\n",
      " |      A method\n",
      " |  \n",
      " |  beamTiltXZ(self) -> float\n",
      " |      A method\n",
      " |  \n",
      " |  beamTiltYZ(self) -> float\n",
      " |      A method\n",
      " |  \n",
      " |  detectorMask0(self) -> int\n",
      " |      A method\n",
      " |  \n",
      " |  detectorMask1(self) -> int\n",
      " |      A method\n",
      " |  \n",
      " |  detectorMask2(self) -> int\n",
      " |      A method\n",
      " |  \n",
      " |  detectorMask3(self) -> int\n",
      " |      A method\n",
      " |  \n",
      " |  eventNumber(self) -> int\n",
      " |      A method\n",
      " |  \n",
      " |  eventTypeBitmask(self) -> int\n",
      " |      A method\n",
      " |  \n",
      " |  extendedLevel1ID(self) -> int\n",
      " |      A method\n",
      " |  \n",
      " |  lumiBlock(self) -> int\n",
      " |      A method\n",
      " |  \n",
      " |  mcChannelNumber(self) -> int\n",
      " |      A method\n",
      " |  \n",
      " |  mcEventNumber(self) -> int\n",
      " |      A method\n",
      " |  \n",
      " |  runNumber(self) -> int\n",
      " |      A method\n",
      " |  \n",
      " |  statusElement(self) -> int\n",
      " |      A method\n",
      " |  \n",
      " |  timeStamp(self) -> int\n",
      " |      A method\n",
      " |  \n",
      " |  timeStampNSOffset(self) -> int\n",
      " |      A method\n",
      " |  \n",
      " |  ----------------------------------------------------------------------\n",
      " |  Data descriptors defined here:\n",
      " |  \n",
      " |  __dict__\n",
      " |      dictionary for instance variables (if defined)\n",
      " |  \n",
      " |  __weakref__\n",
      " |      list of weak references to the object (if defined)\n",
      "\n"
     ]
    }
   ],
   "source": [
    "from func_adl_servicex_xaodr21.xAOD.eventinfo_v1 import EventInfo_v1\n",
    "help(EventInfo_v1)"
   ]
  },
  {
   "cell_type": "markdown",
   "metadata": {},
   "source": [
    "## Further Information\n",
    "\n",
    "* The [`xAOD::EventInfo_v1` C++ header file](https://gitlab.cern.ch/atlas/athena/-/blob/21.2/Event/xAOD/xAODEventInfo/xAODEventInfo/versions/EventInfo_v1.h) with all the inline documentation.\n",
    "* [Slides from a tutorial](https://indico.cern.ch/event/860971/contributions/3626446/attachments/1972517/3281693/The_ATLAS_Event_Data_Model_2020.01.21..pdf) on the ATLAS Data Model"
   ]
  },
  {
   "cell_type": "markdown",
   "metadata": {},
   "source": []
  }
 ],
 "metadata": {
  "interpreter": {
   "hash": "4373964a7db18cf126f92f2b701a24b82fcc263e81b1ec161a400db7f7fa2af5"
  },
  "kernelspec": {
   "display_name": "Python 3.9.6 64-bit (system)",
   "name": "python3"
  },
  "language_info": {
   "codemirror_mode": {
    "name": "ipython",
    "version": 3
   },
   "file_extension": ".py",
   "mimetype": "text/x-python",
   "name": "python",
   "nbconvert_exporter": "python",
   "pygments_lexer": "ipython3",
   "version": "3.9.6"
  },
  "orig_nbformat": 4
 },
 "nbformat": 4,
 "nbformat_minor": 2
}
