{
 "cells": [
  {
   "cell_type": "markdown",
   "metadata": {},
   "source": [
    "(ch-calibration)=\n",
    "# Calibration\n",
    "\n",
    "In the previous [chapter on jets](ch-jets), the jet quantities were all calibrated. The common CP algorithms were used during extraction to:\n",
    "\n",
    "* Calibrate the jets according to the most recent Jet group recommendations that were baked into the release\n",
    "* Calibrate all the other objects (electrons, photons, taus, and muons)\n",
    "* Perform overlap removal\n",
    "\n",
    "This chapter discusses the details of how calibrations are run, and what can be done to configure it. First, however, a short introduction on the calibration model to help understand the technical code.\n",
    "\n",
    "## Introduction\n",
    "\n",
    "It is best to think of an event being calibrated in ATLAS, rather than a single object or collection of objects. In most cases it does not make sense to have one type of object calibrated while another isn't. This is because there are interdependencies between some objects. For example, the calibrated jets, electrons, photons, muons, and taus are all used to calculate the missing $E_T$ for an event. Further, after calibrating jets, electrons, photons, muons, and taus one must run overlap removal to disambiguate, say, jets and electrons. How that calibration is run is called the _calibration configuration_.\n",
    "\n",
    "As a result, it only makes sense to talk about a coherent, calibrated set of objects in an ATLAS event. Further, due to limitations in how `AnalysisBase` (which extracts the data from xAOD's and runs the common CP algorithms) and `func_adl`'s calibration model described here, it is not possible to run with more than a single calibration configuration in a single query. You'll have to split them up into multiple queries.\n",
    "\n",
    "`func_adl` has calibration configuration class. It tells the system what jet collection to use, what muon working point to use, etc. This is configured by default to work well for `DAOD_PHYS`. In the end, the common CP algorithms are configured using the contents of configuration class. If you do nothing, the default configuration for `DAOD_PHYS` is what you'll get. However, if you need a different calibration configuration it is possible to alter this, as we will see below."
   ]
  },
  {
   "cell_type": "code",
   "execution_count": 1,
   "metadata": {},
   "outputs": [
    {
     "name": "stderr",
     "output_type": "stream",
     "text": [
      "Found backend type matching \"xaod\". Matching by type is depreciated. Please switch to using the \"name\" keyword in your servicex.yaml file.\n",
      "Found backend type matching \"xaod\". Matching by type is depreciated. Please switch to using the \"name\" keyword in your servicex.yaml file.\n",
      "Found backend type matching \"xaod\". Matching by type is depreciated. Please switch to using the \"name\" keyword in your servicex.yaml file.\n",
      "Found backend type matching \"xaod\". Matching by type is depreciated. Please switch to using the \"name\" keyword in your servicex.yaml file.\n",
      "Found backend type matching \"xaod\". Matching by type is depreciated. Please switch to using the \"name\" keyword in your servicex.yaml file.\n"
     ]
    }
   ],
   "source": [
    "from config import ds_zee as ds\n",
    "from config import match_eta_phi\n",
    "from func_adl_servicex_xaodr21 import calib_tools\n",
    "import matplotlib.pyplot as plt\n",
    "import awkward as ak"
   ]
  },
  {
   "cell_type": "markdown",
   "metadata": {},
   "source": [
    "## The Calibration Configuration Object\n",
    "\n",
    "The default calibration object details all the collections and working points that are to be used. The default configuration is easy enough to grab and inspect by accessing the `default_config` on the `calib_tools` object. The `calib_tools` object provides access to the configuration and helper methods to modify it in various ways."
   ]
  },
  {
   "cell_type": "code",
   "execution_count": 2,
   "metadata": {},
   "outputs": [
    {
     "name": "stdout",
     "output_type": "stream",
     "text": [
      "CalibrationEventConfig(jet_collection='AntiKt4EMPFlowJets', jet_calib_truth_collection='AntiKt4TruthDressedWZJets', electron_collection='Electrons', electron_working_point='MediumLHElectron', electron_isolation='NonIso', photon_collection='Photons', photon_working_point='Tight', photon_isolation='FixedCutTight', muon_collection='Muons', muon_working_point='Medium', muon_isolation='NonIso', tau_collection='TauJets', tau_working_point='Tight', perform_overlap_removal=True)\n"
     ]
    }
   ],
   "source": [
    "print(calib_tools.default_config)"
   ]
  },
  {
   "cell_type": "markdown",
   "metadata": {},
   "source": [
    "When you request `Jet`'s, for example, you'll be getting back fully calibrated and overlap pruned jets. The jets will have started from the `default_config.jet_collection` entry above (these are the same jets we saw in most of the [Jet chapter](sec-jet-simple)):"
   ]
  },
  {
   "cell_type": "code",
   "execution_count": 3,
   "metadata": {},
   "outputs": [],
   "source": [
    "pflow_jets = (ds\n",
    "        .Select(lambda e: e.Jets())\n",
    "        .Select(lambda jets: jets.Where(lambda j: (j.pt() / 1000) > 30))\n",
    "        .Select(lambda jets: {\n",
    "                'pt': jets.Select(lambda j: j.pt() / 1000.0),\n",
    "                'eta': jets.Select(lambda j: j.eta() / 1000.0),\n",
    "                'phi': jets.Select(lambda j: j.phi() / 1000.0),\n",
    "        })\n",
    "        .AsAwkwardArray()\n",
    "        .value())"
   ]
  },
  {
   "cell_type": "code",
   "execution_count": 4,
   "metadata": {},
   "outputs": [
    {
     "data": {
      "image/png": "[encoded data removed]",
      "text/plain": [
       "<Figure size 432x288 with 1 Axes>"
      ]
     },
     "metadata": {
      "needs_background": "light"
     },
     "output_type": "display_data"
    }
   ],
   "source": [
    "plt.hist(ak.flatten(pflow_jets.pt), label='PFlow', bins=100, range=(30, 100))\n",
    "plt.legend()\n",
    "_ = plt.xlabel('Jet $p_T$ [GeV]')"
   ]
  },
  {
   "cell_type": "markdown",
   "metadata": {},
   "source": [
    "You can change the default calibration configuration if you desire. If your analysis is based on a skim, rather than `DAOD_PHYS`, you might want to do this in some master configuration file that everyone includes.\n",
    "\n",
    "All queries that occur after the change will this new default. Note that calibration configuration is captured at run time (when you use `value` or its equivalent), not when you use the `Jets` method, etc. If you find yourself wanting to use multiple configurations in the same script or notebook, modifying the default is almost certainly not the way to do (see below for other more flexible options).\n",
    "\n",
    "This example modifies the default calibration configuration to use a new jet collection. The identical query above will return a different set of (calibrated) jets:"
   ]
  },
  {
   "cell_type": "code",
   "execution_count": 5,
   "metadata": {},
   "outputs": [],
   "source": [
    "new_jet_selection = calib_tools.default_config\n",
    "new_jet_selection.jet_collection = 'AntiKt4EMTopoJets'\n",
    "calib_tools.set_default_config(new_jet_selection)\n",
    "\n",
    "antikt_jets = (ds\n",
    "        .Select(lambda e: e.Jets())\n",
    "        .Select(lambda jets: jets.Where(lambda j: (j.pt() / 1000) > 30))\n",
    "        .Select(lambda jets: {\n",
    "                'pt': jets.Select(lambda j: j.pt() / 1000.0),\n",
    "                'eta': jets.Select(lambda j: j.eta() / 1000.0),\n",
    "                'phi': jets.Select(lambda j: j.phi() / 1000.0),\n",
    "        })\n",
    "        .AsAwkwardArray()\n",
    "        .value())"
   ]
  },
  {
   "cell_type": "markdown",
   "metadata": {},
   "source": [
    "And we can see that the PFlow algorithm returns more jets than the anti-kt4 algorithm. And that they are mostly at lower jet $p_T$'s:"
   ]
  },
  {
   "cell_type": "code",
   "execution_count": 6,
   "metadata": {},
   "outputs": [
    {
     "data": {
      "text/plain": [
       "(25560, 23567)"
      ]
     },
     "execution_count": 6,
     "metadata": {},
     "output_type": "execute_result"
    }
   ],
   "source": [
    "len(ak.flatten(pflow_jets.pt)), len(ak.flatten(antikt_jets.pt))"
   ]
  },
  {
   "cell_type": "code",
   "execution_count": 7,
   "metadata": {},
   "outputs": [
    {
     "data": {
      "image/png": "[encoded data removed]",
      "text/plain": [
       "<Figure size 432x288 with 1 Axes>"
      ]
     },
     "metadata": {
      "needs_background": "light"
     },
     "output_type": "display_data"
    }
   ],
   "source": [
    "plt.hist(ak.flatten(pflow_jets.pt), label='PFlow', bins=100, range=(30, 100))\n",
    "plt.hist(ak.flatten(antikt_jets.pt), label='AntiKt4', bins=100, range=(30, 100))\n",
    "plt.legend()\n",
    "_ = plt.xlabel('Jet $p_T$ [GeV]')"
   ]
  },
  {
   "cell_type": "markdown",
   "metadata": {},
   "source": [
    "We can further see that if we find closest-matching jets in $\\eta-\\phi$, that the algorithms really do gather different amounts of energy (as expected!):"
   ]
  },
  {
   "cell_type": "code",
   "execution_count": 8,
   "metadata": {},
   "outputs": [],
   "source": [
    "pflow_matched_jets_to_antikt = match_eta_phi(antikt_jets, pflow_jets)"
   ]
  },
  {
   "cell_type": "code",
   "execution_count": 9,
   "metadata": {},
   "outputs": [
    {
     "data": {
      "image/png": "[encoded data removed]",
      "text/plain": [
       "<Figure size 432x288 with 1 Axes>"
      ]
     },
     "metadata": {
      "needs_background": "light"
     },
     "output_type": "display_data"
    }
   ],
   "source": [
    "plt.hist(ak.flatten(pflow_matched_jets_to_antikt.pt - antikt_jets.pt), bins=100, range=(-10, 10))\n",
    "plt.title('Difference between calibrated PFlow and AntiKt4 jets')\n",
    "_ = plt.xlabel('$\\\\Delta$ Jet $p_T$ [GeV]')"
   ]
  },
  {
   "cell_type": "markdown",
   "metadata": {},
   "source": [
    "And then we can use `calib_tools.reset_config()` to reset to factory default. Though this is mostly for test harneses and the like.\n",
    "\n",
    "```{note} The `default_config` is a global variable, so it is fairly dangerous to modify unless you really want to change it for everything.\n",
    "```\n",
    "\n",
    "```{warning} Modifying the `default_collection` is particularly dangerous in a notebook where one can execute cells out of order. If you execute the cell above to get `pflow_jets` after the `antikt_jets` cell, you'll get AntiKt4EMToploJets in your pflow jets!\n",
    "```\n",
    "\n",
    "```{admonition} Best practice\n",
    "Use this technique if you are setting the calibration once for your analysis in central a configuration file. Otherwise, ignore it.\n",
    "```"
   ]
  },
  {
   "cell_type": "code",
   "execution_count": 10,
   "metadata": {},
   "outputs": [],
   "source": [
    "calib_tools.reset_config()"
   ]
  },
  {
   "cell_type": "markdown",
   "metadata": {},
   "source": [
    "## Modifying the calibrated collection in the query"
   ]
  },
  {
   "cell_type": "markdown",
   "metadata": {},
   "source": [
    "You can modify an aspect of the calibration configuration on a query-by-query basis without using the global `default_config`. There are two ways to do this.\n",
    "\n",
    "First, you can specify the collection to load in place of the default in the `Jets` (or similar) method. This will alter the collection name and run the full calibration. This is useful for quick tests: it is convinent, and keeps the new bank name close to where you make the request - so it is readable."
   ]
  },
  {
   "cell_type": "code",
   "execution_count": 11,
   "metadata": {},
   "outputs": [],
   "source": [
    "jetname_in_query_jets = (ds\n",
    "        .Select(lambda e: e.Jets(calibrated_collection=\"AntiKt4EMTopoJets\"))\n",
    "        .Select(lambda jets: jets.Where(lambda j: (j.pt() / 1000) > 30))\n",
    "        .Select(lambda jets: {\n",
    "                'pt': jets.Select(lambda j: j.pt() / 1000.0),\n",
    "                'eta': jets.Select(lambda j: j.eta() / 1000.0),\n",
    "                'phi': jets.Select(lambda j: j.phi() / 1000.0),\n",
    "        })\n",
    "        .AsAwkwardArray()\n",
    "        .value())"
   ]
  },
  {
   "cell_type": "markdown",
   "metadata": {},
   "source": [
    "And we can see there are no differences in the data we've pulled here as compared to using the `default_config` technique above:"
   ]
  },
  {
   "cell_type": "code",
   "execution_count": 12,
   "metadata": {},
   "outputs": [
    {
     "data": {
      "text/plain": [
       "0.0"
      ]
     },
     "execution_count": 12,
     "metadata": {},
     "output_type": "execute_result"
    }
   ],
   "source": [
    "ak.sum(abs(jetname_in_query_jets.pt - antikt_jets.pt))"
   ]
  },
  {
   "cell_type": "markdown",
   "metadata": {},
   "source": [
    "However, this doesn't work well if you want to alter more than calibration configuration value.\n",
    "\n",
    "There is a helper function, `calib_tools.query_update` that allows you to modify values in the calibration configuration. You can also chain the calls, and the modifications will accumulate."
   ]
  },
  {
   "cell_type": "code",
   "execution_count": 13,
   "metadata": {},
   "outputs": [],
   "source": [
    "config_jets_in_query_jets = (calib_tools.query_update(ds, jet_collection='AntiKt4EMTopoJets')\n",
    "        .Select(lambda e: e.Jets())\n",
    "        .Select(lambda jets: jets.Where(lambda j: (j.pt() / 1000) > 30))\n",
    "        .Select(lambda jets: {\n",
    "                'pt': jets.Select(lambda j: j.pt() / 1000.0),\n",
    "                'eta': jets.Select(lambda j: j.eta() / 1000.0),\n",
    "                'phi': jets.Select(lambda j: j.phi() / 1000.0),\n",
    "        })\n",
    "        .AsAwkwardArray()\n",
    "        .value())"
   ]
  },
  {
   "cell_type": "code",
   "execution_count": 14,
   "metadata": {},
   "outputs": [
    {
     "data": {
      "text/plain": [
       "0.0"
      ]
     },
     "execution_count": 14,
     "metadata": {},
     "output_type": "execute_result"
    }
   ],
   "source": [
    "ak.sum(abs(config_jets_in_query_jets.pt - antikt_jets.pt))"
   ]
  },
  {
   "cell_type": "markdown",
   "metadata": {},
   "source": [
    " Though the code only changes the `jet_collection` you can change as many values in the calibration configuration object as you like in one call. Just add the names as further arguments."
   ]
  },
  {
   "cell_type": "markdown",
   "metadata": {},
   "source": [
    "You can even set a whole new configuration if you have lots of changes at once. This will override anything you've previously set with `query_update` in the query."
   ]
  },
  {
   "cell_type": "code",
   "execution_count": 15,
   "metadata": {},
   "outputs": [],
   "source": [
    "config_in_query_jets = (calib_tools.query_update(ds, new_jet_selection)\n",
    "        .Select(lambda e: e.Jets())\n",
    "        .Select(lambda jets: jets.Where(lambda j: (j.pt() / 1000) > 30))\n",
    "        .Select(lambda jets: {\n",
    "                'pt': jets.Select(lambda j: j.pt() / 1000.0),\n",
    "                'eta': jets.Select(lambda j: j.eta() / 1000.0),\n",
    "                'phi': jets.Select(lambda j: j.phi() / 1000.0),\n",
    "        })\n",
    "        .AsAwkwardArray()\n",
    "        .value())"
   ]
  },
  {
   "cell_type": "code",
   "execution_count": 16,
   "metadata": {},
   "outputs": [
    {
     "data": {
      "text/plain": [
       "0.0"
      ]
     },
     "execution_count": 16,
     "metadata": {},
     "output_type": "execute_result"
    }
   ],
   "source": [
    "ak.sum(abs(config_in_query_jets.pt - antikt_jets.pt))"
   ]
  },
  {
   "cell_type": "markdown",
   "metadata": {},
   "source": [
    "```{admonition} Best practice\n",
    "\n",
    "* Use `query_update` for most cases. It has maximum flexibility and composability. In your analysis, where you declare the dataset, you can easily add a call to `calib_tools.query_update`, for example. You can also modify a query on the fly if you need to alter the calibration configuration for some reason.\n",
    "* Use the `calibrated_collection` argument in a collection request if want to run a one-off test of just a collection change.\n",
    "* Use the `calib_tools.set_default_config` only if you are going to be using this new configuration for everything that will ever be done, and only if you are sure the configuration file being loaded will always by loaded by everyone in the analysis team.\n",
    "```"
   ]
  },
  {
   "cell_type": "markdown",
   "metadata": {},
   "source": [
    "## Systematic Errors\n",
    "\n",
    "You can only query a single systematic error at a time. You do this by specifying the systematic error you want using the helper method `calib_tools.query_sys_error`. By default, the central value is returned (`NOSYS`). You will need to know the names of the systematic errors a head of time in order to use this.\n",
    "\n",
    "Here we get jets for evaluated for the systematic error `JET_Pileup_PtTerm_1up`."
   ]
  },
  {
   "cell_type": "code",
   "execution_count": 17,
   "metadata": {},
   "outputs": [],
   "source": [
    "sys_jets = (calib_tools.query_sys_error(ds, 'JET_Pileup_PtTerm__1up')\n",
    "            .Select(lambda e: e.Jets())\n",
    "            .Select(lambda jets: jets.Where(lambda j: (j.pt() / 1000) > 30))\n",
    "            .Select(lambda jets: {\n",
    "                    'pt': jets.Select(lambda j: j.pt() / 1000.0),\n",
    "                    'eta': jets.Select(lambda j: j.eta() / 1000.0),\n",
    "                    'phi': jets.Select(lambda j: j.phi() / 1000.0),\n",
    "            })\n",
    "            .AsAwkwardArray()\n",
    "            .value())"
   ]
  },
  {
   "cell_type": "markdown",
   "metadata": {},
   "source": [
    "And we can compare the values to see how big a correction this is by doing the $\\eta-\\phi$ matching:"
   ]
  },
  {
   "cell_type": "code",
   "execution_count": 18,
   "metadata": {},
   "outputs": [],
   "source": [
    "sys_jet_matched = match_eta_phi(pflow_jets, sys_jets)"
   ]
  },
  {
   "cell_type": "code",
   "execution_count": 19,
   "metadata": {},
   "outputs": [
    {
     "data": {
      "image/png": "[encoded data removed]",
      "text/plain": [
       "<Figure size 432x288 with 1 Axes>"
      ]
     },
     "metadata": {
      "needs_background": "light"
     },
     "output_type": "display_data"
    }
   ],
   "source": [
    "plt.hist(ak.flatten(pflow_jets.pt - sys_jet_matched.pt), bins=100, range=(-3, 3))\n",
    "plt.title('Effect of the Systematic Error JET_Pileup_PtTerm__1up')\n",
    "_ = plt.xlabel('$\\\\Delta$ Jet $p_T$ [GeV]')"
   ]
  },
  {
   "cell_type": "markdown",
   "metadata": {},
   "source": [
    "While this works, it clearly can't be the final way to do this. Espeically given the push model that ATLAS uses for systematic errors. Thoughts welcome at this [issue on how to implement systematic errors](https://github.com/gordonwatts/xaod_usage/issues/13) in the ATLAS xAOD system for `func_adl`."
   ]
  },
  {
   "cell_type": "markdown",
   "metadata": {},
   "source": [
    "## Uncalibrated Collections\n",
    "\n",
    "You can also request an uncalibrated jet bank - so you can look at the \"raw\" data. For example, we can compare the overlap and calibrated jets above with the jets in the actual starting bank:"
   ]
  },
  {
   "cell_type": "code",
   "execution_count": 20,
   "metadata": {},
   "outputs": [
    {
     "name": "stdout",
     "output_type": "stream",
     "text": [
      "Default jet collection: AntiKt4EMPFlowJets\n"
     ]
    }
   ],
   "source": [
    "default_jets = calib_tools.default_config.jet_collection\n",
    "print(f\"Default jet collection: {default_jets}\")\n",
    "uncalibrated_jets = (ds\n",
    "        .Select(lambda e: e.Jets(uncalibrated_collection=default_jets))\n",
    "        .Select(lambda jets: jets.Where(lambda j: (j.pt() / 1000) > 30))\n",
    "        .Select(lambda jets: {\n",
    "                'pt': jets.Select(lambda j: j.pt() / 1000.0),\n",
    "                'eta': jets.Select(lambda j: j.eta() / 1000.0),\n",
    "                'phi': jets.Select(lambda j: j.phi() / 1000.0),\n",
    "        })\n",
    "        .AsAwkwardArray()\n",
    "        .value())"
   ]
  },
  {
   "cell_type": "code",
   "execution_count": 21,
   "metadata": {},
   "outputs": [
    {
     "data": {
      "image/png": "[encoded data removed]",
      "text/plain": [
       "<Figure size 432x288 with 1 Axes>"
      ]
     },
     "metadata": {
      "needs_background": "light"
     },
     "output_type": "display_data"
    }
   ],
   "source": [
    "plt.hist(ak.flatten(uncalibrated_jets.pt), label='Raw PFlow', bins=100, range=(30, 100))\n",
    "plt.hist(ak.flatten(pflow_jets.pt), label='PFlow', bins=100, range=(30, 100))\n",
    "plt.legend()\n",
    "_ = plt.xlabel('Jet $p_T$ [GeV]')"
   ]
  },
  {
   "cell_type": "code",
   "execution_count": 22,
   "metadata": {},
   "outputs": [],
   "source": [
    "uncalibrated_matched = match_eta_phi(pflow_jets, uncalibrated_jets)"
   ]
  },
  {
   "cell_type": "code",
   "execution_count": 23,
   "metadata": {},
   "outputs": [
    {
     "data": {
      "image/png": "[encoded data removed]",
      "text/plain": [
       "<Figure size 432x288 with 1 Axes>"
      ]
     },
     "metadata": {
      "needs_background": "light"
     },
     "output_type": "display_data"
    }
   ],
   "source": [
    "plt.hist(ak.flatten(pflow_jets.pt - uncalibrated_matched.pt), bins=100, range=(-10, 10))\n",
    "plt.title('Effect of Calibration on the Jet Collection')\n",
    "_ = plt.xlabel('$\\\\Delta$ Jet $p_T$ [GeV]')"
   ]
  },
  {
   "cell_type": "markdown",
   "metadata": {},
   "source": [
    "## AnalysisBase Configuration Code\n",
    "\n",
    "Everyone familiar with AnalysisBase will recognize that the `func_adl_xAOD` system must at some level configuring, via python, the common CP tools. The design of the calibration system here potentially allows you to modify that python code as you wish. However, an API has [not yet been developed](https://github.com/gordonwatts/xaod_usage/issues/14) to do this easily.\n",
    "\n",
    "If you are curious about exactly what code is being downloaded, feel free to look at the template files located in the `templates` directory in the `func_adl_servicex_xaodr21` package that is installed in your environment."
   ]
  },
  {
   "cell_type": "markdown",
   "metadata": {},
   "source": [
    "# Further Information"
   ]
  },
  {
   "cell_type": "code",
   "execution_count": 24,
   "metadata": {},
   "outputs": [
    {
     "name": "stdout",
     "output_type": "stream",
     "text": [
      "Help on class CalibrationEventConfig in module func_adl_servicex_xaodr21.calibration_support:\n",
      "\n",
      "class CalibrationEventConfig(builtins.object)\n",
      " |  CalibrationEventConfig(jet_collection: str, jet_calib_truth_collection: str, electron_collection: str, electron_working_point: str, electron_isolation: str, photon_collection: str, photon_working_point: str, photon_isolation: str, muon_collection: str, muon_working_point: str, muon_isolation: str, tau_collection: str, tau_working_point: str, perform_overlap_removal: bool) -> None\n",
      " |  \n",
      " |  CalibrationEventConfig(jet_collection: str, jet_calib_truth_collection: str, electron_collection: str, electron_working_point: str, electron_isolation: str, photon_collection: str, photon_working_point: str, photon_isolation: str, muon_collection: str, muon_working_point: str, muon_isolation: str, tau_collection: str, tau_working_point: str, perform_overlap_removal: bool)\n",
      " |  \n",
      " |  Methods defined here:\n",
      " |  \n",
      " |  __eq__(self, other)\n",
      " |  \n",
      " |  __init__(self, jet_collection: str, jet_calib_truth_collection: str, electron_collection: str, electron_working_point: str, electron_isolation: str, photon_collection: str, photon_working_point: str, photon_isolation: str, muon_collection: str, muon_working_point: str, muon_isolation: str, tau_collection: str, tau_working_point: str, perform_overlap_removal: bool) -> None\n",
      " |  \n",
      " |  __repr__(self)\n",
      " |  \n",
      " |  ----------------------------------------------------------------------\n",
      " |  Data descriptors defined here:\n",
      " |  \n",
      " |  __dict__\n",
      " |      dictionary for instance variables (if defined)\n",
      " |  \n",
      " |  __weakref__\n",
      " |      list of weak references to the object (if defined)\n",
      " |  \n",
      " |  ----------------------------------------------------------------------\n",
      " |  Data and other attributes defined here:\n",
      " |  \n",
      " |  __annotations__ = {'electron_collection': <class 'str'>, 'electron_iso...\n",
      " |  \n",
      " |  __dataclass_fields__ = {'electron_collection': Field(name='electron_co...\n",
      " |  \n",
      " |  __dataclass_params__ = _DataclassParams(init=True,repr=True,eq=True,or...\n",
      " |  \n",
      " |  __hash__ = None\n",
      " |  \n",
      " |  __slotnames__ = []\n",
      "\n"
     ]
    }
   ],
   "source": [
    "from func_adl_servicex_xaodr21 import CalibrationEventConfig\n",
    "help(CalibrationEventConfig)"
   ]
  },
  {
   "cell_type": "code",
   "execution_count": 25,
   "metadata": {},
   "outputs": [
    {
     "name": "stdout",
     "output_type": "stream",
     "text": [
      "Help on class calib_tools in module func_adl_servicex_xaodr21.calibration_support:\n",
      "\n",
      "class calib_tools(builtins.object)\n",
      " |  Helper functions to work with a query's calibration configuration.\n",
      " |  \n",
      " |  Class methods defined here:\n",
      " |  \n",
      " |  default_config = CalibrationEventConfig(jet_collection='AntiKt4EM...king_point='Tight', perform_overlap_removal=True)\n",
      " |  default_sys_error = 'NOSYS'\n",
      " |  query_sys_error(query: func_adl.object_stream.ObjectStream[~T], sys_error: str) -> func_adl.object_stream.ObjectStream[~T] from builtins.type\n",
      " |      Add metadata to a query to indicate a change in the systematic error for the events.\n",
      " |      \n",
      " |      Args:\n",
      " |          query (ObjectStream[T]): The query to update.\n",
      " |      \n",
      " |          sys_error (str): The systematic error to fetch. Only a single one is possible at any time. The sys error names\n",
      " |              are the same as used by the common CP algorithms.\n",
      " |          \n",
      " |      Returns:\n",
      " |          ObjectStream[T]: The updated query.\n",
      " |      \n",
      " |      Notes:\n",
      " |      \n",
      " |          * This function can be chained - resolution works by looking at the most recent `query_sys_error` in the query.\n",
      " |  \n",
      " |  query_update(query: func_adl.object_stream.ObjectStream[~T], calib_config: Optional[func_adl_servicex_xaodr21.calibration_support.CalibrationEventConfig] = None, **kwargs) -> func_adl.object_stream.ObjectStream[~T] from builtins.type\n",
      " |      Add metadata to a query to indicate a change in the calibration configuration for the query.\n",
      " |      \n",
      " |      Args:\n",
      " |          query (ObjectStream[T]): The query to update.\n",
      " |      \n",
      " |          calib_config (Optional[CalibrationEventConfig]): The new calibration configuration to use. If specified\n",
      " |              will override all calibration configuration options in the query.\n",
      " |          \n",
      " |          jet_collection, ...: Use any property name from the `CalibrationEventConfig` class to override that particular\n",
      " |              options for this query. You may specify as many of them as you like.\n",
      " |      \n",
      " |      Returns:\n",
      " |          ObjectStream[T]: The updated query.\n",
      " |      \n",
      " |      Notes:\n",
      " |      \n",
      " |          * This function can be chained - resolution works by looking at the most recent `query_update` in the query.\n",
      " |          * This function works by storing a complete `CalibrationEventConfig` object, updated as requested, in the query. So\n",
      " |              even if you just update `jet_collection`, changing the `default_config` after calling this will have no effect.\n",
      " |  \n",
      " |  reset_config() from builtins.type\n",
      " |      Reset calibration config to the default.\n",
      " |      \n",
      " |      * This is configured for working with R21 DAOD_PHYS samples.\n",
      " |  \n",
      " |  reset_sys_error() from builtins.type\n",
      " |      Reset to 'NOSYS' the default systematic error\n",
      " |  \n",
      " |  set_default_config(config: func_adl_servicex_xaodr21.calibration_support.CalibrationEventConfig) from builtins.type\n",
      " |      Store a copy of a new default config for use in all future queries.\n",
      " |  \n",
      " |  set_default_sys_error(value: str) from builtins.type\n",
      " |      Set the default systematic error\n",
      " |  \n",
      " |  ----------------------------------------------------------------------\n",
      " |  Data descriptors defined here:\n",
      " |  \n",
      " |  __dict__\n",
      " |      dictionary for instance variables (if defined)\n",
      " |  \n",
      " |  __weakref__\n",
      " |      list of weak references to the object (if defined)\n",
      " |  \n",
      " |  ----------------------------------------------------------------------\n",
      " |  Data and other attributes defined here:\n",
      " |  \n",
      " |  __annotations__ = {'_default_calibration': typing.Optional[func_adl_se...\n",
      "\n"
     ]
    }
   ],
   "source": [
    "help(calib_tools)"
   ]
  }
 ],
 "metadata": {
  "interpreter": {
   "hash": "4373964a7db18cf126f92f2b701a24b82fcc263e81b1ec161a400db7f7fa2af5"
  },
  "kernelspec": {
   "display_name": "Python 3.9.6 ('xaod-usage-w68Kx7k0-py3.9')",
   "language": "python",
   "name": "python3"
  },
  "language_info": {
   "codemirror_mode": {
    "name": "ipython",
    "version": 3
   },
   "file_extension": ".py",
   "mimetype": "text/x-python",
   "name": "python",
   "nbconvert_exporter": "python",
   "pygments_lexer": "ipython3",
   "version": "3.9.6"
  },
  "orig_nbformat": 4
 },
 "nbformat": 4,
 "nbformat_minor": 2
}
