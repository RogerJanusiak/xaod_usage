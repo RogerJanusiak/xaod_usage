{
 "cells": [
  {
   "cell_type": "markdown",
   "metadata": {},
   "source": [
    "# Calorimeter Clusters Collection\n",
    "\n",
    "A jet is built from these clusters. Lets take a dive into the raw versions."
   ]
  },
  {
   "cell_type": "code",
   "execution_count": 1,
   "metadata": {},
   "outputs": [],
   "source": [
    "from func_adl_servicex_xaodr21 import SXDSAtlasxAODR21\n",
    "import matplotlib.pyplot as plt\n",
    "from config import rucio_zee_r21_mc"
   ]
  },
  {
   "cell_type": "code",
   "execution_count": 2,
   "metadata": {},
   "outputs": [],
   "source": [
    "ds = SXDSAtlasxAODR21(rucio_zee_r21_mc, backend='dev_xaod')"
   ]
  },
  {
   "cell_type": "markdown",
   "metadata": {},
   "source": [
    "There are several `CaloCluster` collections. For this we'll go after `egammaClusters`.\n",
    "\n",
    "_TODO_: Why doesn't this work for `CaloCalTopoClusters`, which are in the dataset for this according to `checkxAOD.py`. Fails with a \"no metadata for branch\" error."
   ]
  },
  {
   "cell_type": "code",
   "execution_count": 3,
   "metadata": {},
   "outputs": [
    {
     "data": {
      "application/vnd.jupyter.widget-view+json": {
       "model_id": "f47d332ea0184bcf8bbd700639912451",
       "version_major": 2,
       "version_minor": 0
      },
      "text/plain": [
       "rucio://mc15_13TeV:m...:   0%|          | 0/9000000000.0 [00:00]"
      ]
     },
     "metadata": {},
     "output_type": "display_data"
    },
    {
     "data": {
      "application/vnd.jupyter.widget-view+json": {
       "model_id": "7f74aff0733b4dd2b30687b01ff712bd",
       "version_major": 2,
       "version_minor": 0
      },
      "text/plain": [
       "        rucio://mc15_13TeV:m... Downloaded:   0%|          | 0/9000000000.0 [00:00]"
      ]
     },
     "metadata": {},
     "output_type": "display_data"
    }
   ],
   "source": [
    "jets = (ds\n",
    "          .SelectMany(lambda e: e.CaloClusters('egammaClusters'))\n",
    "          .Select(lambda cluster: cluster.pt() / 1000.0)\n",
    "          .AsAwkwardArray('ClusterPt')\n",
    "          .value())"
   ]
  },
  {
   "cell_type": "code",
   "execution_count": 5,
   "metadata": {},
   "outputs": [
    {
     "data": {
      "image/png": "[encoded data removed]",
      "text/plain": [
       "<Figure size 432x288 with 1 Axes>"
      ]
     },
     "metadata": {
      "needs_background": "light"
     },
     "output_type": "display_data"
    }
   ],
   "source": [
    "plt.hist(jets.ClusterPt, bins=100, range=(0, 100))\n",
    "plt.xlabel('Jet $p_T$ [GeV]')\n",
    "plt.ylabel('Number of jets')\n",
    "_ = plt.title('Jet $p_T$ distribution for $Z\\\\rightarrow ee$ events')"
   ]
  },
  {
   "cell_type": "markdown",
   "metadata": {},
   "source": [
    "## The Datamodel\n",
    "\n",
    "The data model when this documentation was last built was:"
   ]
  },
  {
   "cell_type": "code",
   "execution_count": 6,
   "metadata": {},
   "outputs": [
    {
     "name": "stdout",
     "output_type": "stream",
     "text": [
      "Help on class CaloCluster_v1 in module func_adl_servicex_xaodr21.xAOD.calocluster_v1:\n",
      "\n",
      "class CaloCluster_v1(builtins.object)\n",
      " |  A class\n",
      " |  \n",
      " |  Methods defined here:\n",
      " |  \n",
      " |  e(self) -> float\n",
      " |      A method\n",
      " |  \n",
      " |  et(self) -> float\n",
      " |      A method\n",
      " |  \n",
      " |  eta(self) -> float\n",
      " |      A method\n",
      " |  \n",
      " |  getClusterEtaSize(self) -> int\n",
      " |      A method\n",
      " |  \n",
      " |  getClusterPhiSize(self) -> int\n",
      " |      A method\n",
      " |  \n",
      " |  m(self) -> float\n",
      " |      A method\n",
      " |  \n",
      " |  nSamples(self) -> int\n",
      " |      A method\n",
      " |  \n",
      " |  phi(self) -> float\n",
      " |      A method\n",
      " |  \n",
      " |  pt(self) -> float\n",
      " |      A method\n",
      " |  \n",
      " |  rapidity(self) -> float\n",
      " |      A method\n",
      " |  \n",
      " |  samplingPattern(self) -> int\n",
      " |      A method\n",
      " |  \n",
      " |  ----------------------------------------------------------------------\n",
      " |  Data descriptors defined here:\n",
      " |  \n",
      " |  __dict__\n",
      " |      dictionary for instance variables (if defined)\n",
      " |  \n",
      " |  __weakref__\n",
      " |      list of weak references to the object (if defined)\n",
      "\n"
     ]
    }
   ],
   "source": [
    "from func_adl_servicex_xaodr21.xAOD.calocluster_v1 import CaloCluster_v1\n",
    "help(CaloCluster_v1)"
   ]
  },
  {
   "cell_type": "markdown",
   "metadata": {},
   "source": [
    "## Further Information\n",
    "\n",
    "* The [`xAOD::CaloCluster_v1` C++ header file](https://gitlab.cern.ch/atlas/athena/-/blob/21.2/Event/xAOD/xAODCaloEvent/xAODCaloEvent/versions/CaloCluster_v1.h) with all the inline documentation."
   ]
  }
 ],
 "metadata": {
  "interpreter": {
   "hash": "4373964a7db18cf126f92f2b701a24b82fcc263e81b1ec161a400db7f7fa2af5"
  },
  "kernelspec": {
   "display_name": "Python 3.9.6 64-bit (system)",
   "name": "python3"
  },
  "language_info": {
   "codemirror_mode": {
    "name": "ipython",
    "version": 3
   },
   "file_extension": ".py",
   "mimetype": "text/x-python",
   "name": "python",
   "nbconvert_exporter": "python",
   "pygments_lexer": "ipython3",
   "version": "3.9.6"
  },
  "orig_nbformat": 4
 },
 "nbformat": 4,
 "nbformat_minor": 2
}
