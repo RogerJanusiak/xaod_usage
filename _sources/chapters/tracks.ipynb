{
 "cells": [
  {
   "cell_type": "markdown",
   "metadata": {},
   "source": [
    "# The Track Collection\n",
    "\n",
    "Tracks in ATLAS are straight forward - you apply the cuts on your own (or they are done by a derivation). As a result, tracks are simple objects. Note that tracks are hefty objects - a lot of their data is slimmed out, so you'll get AUX errors when you try to request it!"
   ]
  },
  {
   "cell_type": "code",
   "execution_count": 1,
   "metadata": {},
   "outputs": [
    {
     "name": "stderr",
     "output_type": "stream",
     "text": [
      "Found backend type matching \"xaod\". Matching by type is depreciated. Please switch to using the \"name\" keyword in your servicex.yaml file.\n"
     ]
    }
   ],
   "source": [
    "from func_adl_servicex_xaodr21 import SXDSAtlasxAODR21\n",
    "import matplotlib.pyplot as plt\n",
    "from config import ds\n",
    "import awkward as ak\n",
    "import numpy as np"
   ]
  },
  {
   "cell_type": "markdown",
   "metadata": {},
   "source": [
    "Fetch all the inner detector tracks and plot their $p_T$ and the radius of the first hit on the tracks."
   ]
  },
  {
   "cell_type": "code",
   "execution_count": 10,
   "metadata": {},
   "outputs": [],
   "source": [
    "tracks = (ds\n",
    "        .SelectMany(lambda e: e.TrackParticles(\"InDetTrackParticles\"))\n",
    "        .Select(lambda t: \n",
    "        {\n",
    "                \"pt\": t.pt() / 1000.0,\n",
    "        })\n",
    "        .AsAwkwardArray()\n",
    "        .value())"
   ]
  },
  {
   "cell_type": "code",
   "execution_count": 11,
   "metadata": {},
   "outputs": [
    {
     "data": {
      "image/png": "[encoded data removed]",
      "text/plain": [
       "<Figure size 432x288 with 1 Axes>"
      ]
     },
     "metadata": {
      "needs_background": "light"
     },
     "output_type": "display_data"
    }
   ],
   "source": [
    "plt.hist(tracks.pt, bins=100, range=(0, 10))\n",
    "plt.xlabel('Track $p_T$ [GeV]')\n",
    "plt.ylabel('Number of tracks')\n",
    "_ = plt.title('Track $p_T$ distribution for $Z\\\\rightarrow ee$ events')"
   ]
  },
  {
   "cell_type": "markdown",
   "metadata": {},
   "source": [
    "## The Datamodel\n",
    "\n",
    "The data model when this documentation was last built was:"
   ]
  },
  {
   "cell_type": "code",
   "execution_count": 8,
   "metadata": {},
   "outputs": [
    {
     "name": "stdout",
     "output_type": "stream",
     "text": [
      "Help on class TrackParticle_v1 in module func_adl_servicex_xaodr21.xAOD.trackparticle_v1:\n",
      "\n",
      "class TrackParticle_v1(builtins.object)\n",
      " |  A class\n",
      " |  \n",
      " |  Methods defined here:\n",
      " |  \n",
      " |  TrackParticle_v1(self) -> 'func_adl_servicex_xaodr21.xAOD.trackparticle_v1.TrackParticle_v1'\n",
      " |      A method\n",
      " |  \n",
      " |  beamlineTiltX(self) -> 'float'\n",
      " |      A method\n",
      " |  \n",
      " |  beamlineTiltY(self) -> 'float'\n",
      " |      A method\n",
      " |  \n",
      " |  charge(self) -> 'float'\n",
      " |      A method\n",
      " |  \n",
      " |  chiSquared(self) -> 'float'\n",
      " |      A method\n",
      " |  \n",
      " |  clearDecorations(self) -> 'bool'\n",
      " |      A method\n",
      " |  \n",
      " |  d0(self) -> 'float'\n",
      " |      A method\n",
      " |  \n",
      " |  definingParametersCovMatrixVec(self) -> 'func_adl_servicex_xaodr21.vector_float_.vector_float_'\n",
      " |      A method\n",
      " |  \n",
      " |  e(self) -> 'float'\n",
      " |      A method\n",
      " |  \n",
      " |  eta(self) -> 'float'\n",
      " |      A method\n",
      " |  \n",
      " |  hasNonConstStore(self) -> 'bool'\n",
      " |      A method\n",
      " |  \n",
      " |  hasStore(self) -> 'bool'\n",
      " |      A method\n",
      " |  \n",
      " |  hitPattern(self) -> 'int'\n",
      " |      A method\n",
      " |  \n",
      " |  index(self) -> 'int'\n",
      " |      A method\n",
      " |  \n",
      " |  m(self) -> 'float'\n",
      " |      A method\n",
      " |  \n",
      " |  numberDoF(self) -> 'float'\n",
      " |      A method\n",
      " |  \n",
      " |  numberOfParameters(self) -> 'int'\n",
      " |      A method\n",
      " |  \n",
      " |  p4(self) -> 'func_adl_servicex_xaodr21.tlorentzvector.TLorentzVector'\n",
      " |      A method\n",
      " |  \n",
      " |  parameterPX(self, index: 'int') -> 'float'\n",
      " |      A method\n",
      " |  \n",
      " |  parameterPY(self, index: 'int') -> 'float'\n",
      " |      A method\n",
      " |  \n",
      " |  parameterPZ(self, index: 'int') -> 'float'\n",
      " |      A method\n",
      " |  \n",
      " |  parameterX(self, index: 'int') -> 'float'\n",
      " |      A method\n",
      " |  \n",
      " |  parameterY(self, index: 'int') -> 'float'\n",
      " |      A method\n",
      " |  \n",
      " |  parameterZ(self, index: 'int') -> 'float'\n",
      " |      A method\n",
      " |  \n",
      " |  phi(self) -> 'float'\n",
      " |      A method\n",
      " |  \n",
      " |  phi0(self) -> 'float'\n",
      " |      A method\n",
      " |  \n",
      " |  pt(self) -> 'float'\n",
      " |      A method\n",
      " |  \n",
      " |  qOverP(self) -> 'float'\n",
      " |      A method\n",
      " |  \n",
      " |  radiusOfFirstHit(self) -> 'float'\n",
      " |      A method\n",
      " |  \n",
      " |  rapidity(self) -> 'float'\n",
      " |      A method\n",
      " |  \n",
      " |  theta(self) -> 'float'\n",
      " |      A method\n",
      " |  \n",
      " |  usingPrivateStore(self) -> 'bool'\n",
      " |      A method\n",
      " |  \n",
      " |  usingStandaloneStore(self) -> 'bool'\n",
      " |      A method\n",
      " |  \n",
      " |  vertex(self) -> 'func_adl_servicex_xaodr21.xAOD.vertex_v1.Vertex_v1'\n",
      " |      A method\n",
      " |  \n",
      " |  vertexLink(self) -> 'func_adl_servicex_xaodr21.elementlink_datavector_xaod_vertex_v1__.ElementLink_DataVector_xAOD_Vertex_v1__'\n",
      " |      A method\n",
      " |  \n",
      " |  vx(self) -> 'float'\n",
      " |      A method\n",
      " |  \n",
      " |  vy(self) -> 'float'\n",
      " |      A method\n",
      " |  \n",
      " |  vz(self) -> 'float'\n",
      " |      A method\n",
      " |  \n",
      " |  z0(self) -> 'float'\n",
      " |      A method\n",
      " |  \n",
      " |  ----------------------------------------------------------------------\n",
      " |  Data descriptors defined here:\n",
      " |  \n",
      " |  __dict__\n",
      " |      dictionary for instance variables (if defined)\n",
      " |  \n",
      " |  __weakref__\n",
      " |      list of weak references to the object (if defined)\n",
      "\n"
     ]
    }
   ],
   "source": [
    "from func_adl_servicex_xaodr21.xAOD.trackparticle_v1 import TrackParticle_v1\n",
    "help(TrackParticle_v1)"
   ]
  },
  {
   "cell_type": "markdown",
   "metadata": {},
   "source": [
    "## Further Information\n",
    "\n",
    "* The [`xAOD::TrackParticle_v1` C++ header file](https://gitlab.cern.ch/atlas/athena/-/blob/21.2/Event/xAOD/xAODTracking/xAODTracking/versions/TrackParticle_v1.h) with all the inline documentation.\n",
    "* The [Tracking CP group R21 recommendation pages](https://twiki.cern.ch/twiki/bin/view/AtlasProtected/TrackingCPRecsEarly2018#Track_Selection) on the ATLAS TWiki"
   ]
  },
  {
   "cell_type": "markdown",
   "metadata": {},
   "source": []
  }
 ],
 "metadata": {
  "interpreter": {
   "hash": "4373964a7db18cf126f92f2b701a24b82fcc263e81b1ec161a400db7f7fa2af5"
  },
  "kernelspec": {
   "display_name": "Python 3.9.6 64-bit (system)",
   "name": "python3"
  },
  "language_info": {
   "codemirror_mode": {
    "name": "ipython",
    "version": 3
   },
   "file_extension": ".py",
   "mimetype": "text/x-python",
   "name": "python",
   "nbconvert_exporter": "python",
   "pygments_lexer": "ipython3",
   "version": "3.9.6"
  },
  "orig_nbformat": 4
 },
 "nbformat": 4,
 "nbformat_minor": 2
}
