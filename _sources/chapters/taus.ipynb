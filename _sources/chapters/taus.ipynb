{
 "cells": [
  {
   "cell_type": "markdown",
   "metadata": {},
   "source": [
    "# The Tau Collections\n",
    "\n",
    "Taus are complex jet-like objects that are reconstructed and calibrated with their own algorithms. They are a lot like jets, from a data model point-of-view."
   ]
  },
  {
   "cell_type": "code",
   "execution_count": 1,
   "metadata": {},
   "outputs": [
    {
     "name": "stderr",
     "output_type": "stream",
     "text": [
      "Found backend type matching \"xaod\". Matching by type is depreciated. Please switch to using the \"name\" keyword in your servicex.yaml file.\n",
      "Found backend type matching \"xaod\". Matching by type is depreciated. Please switch to using the \"name\" keyword in your servicex.yaml file.\n",
      "Found backend type matching \"xaod\". Matching by type is depreciated. Please switch to using the \"name\" keyword in your servicex.yaml file.\n",
      "Found backend type matching \"xaod\". Matching by type is depreciated. Please switch to using the \"name\" keyword in your servicex.yaml file.\n",
      "Found backend type matching \"xaod\". Matching by type is depreciated. Please switch to using the \"name\" keyword in your servicex.yaml file.\n"
     ]
    }
   ],
   "source": [
    "import matplotlib.pyplot as plt\n",
    "from config import ds_ztautau as ds\n",
    "import awkward as ak\n",
    "from func_adl_servicex_xaodr21 import calib_tools\n",
    "from helpers import match_objects"
   ]
  },
  {
   "cell_type": "markdown",
   "metadata": {},
   "source": [
    "By default we fetch tau-jets from the `Tight` working point (you can change the working point by passing the `working_point` argument)."
   ]
  },
  {
   "cell_type": "code",
   "execution_count": 2,
   "metadata": {},
   "outputs": [],
   "source": [
    "taus = (ds\n",
    "        .Select(lambda e: e.TauJets())\n",
    "        .Select(lambda ts: {\n",
    "            'pt': [t.pt()/1000.0 for t in ts],\n",
    "            'eta': [t.eta() for t in ts],\n",
    "            'phi': [t.phi() for t in ts],\n",
    "        })\n",
    "        .AsAwkwardArray()\n",
    "        .value())"
   ]
  },
  {
   "cell_type": "code",
   "execution_count": 3,
   "metadata": {},
   "outputs": [
    {
     "data": {
      "image/png": "[encoded data removed]",
      "text/plain": [
       "<Figure size 432x288 with 1 Axes>"
      ]
     },
     "metadata": {
      "needs_background": "light"
     },
     "output_type": "display_data"
    }
   ],
   "source": [
    "plt.hist(ak.flatten(taus.pt), bins=100, range=(0, 100))\n",
    "plt.xlabel('Tau $p_T$ [GeV]')\n",
    "plt.ylabel('Number of Taus')\n",
    "_ = plt.title('Tau $p_T$ distribution for $Z\\\\rightarrow \\\\tau \\\\tau$ events')"
   ]
  },
  {
   "cell_type": "markdown",
   "metadata": {},
   "source": [
    "## Calibration\n",
    "\n",
    "By default the taus we pulled from above are calibrated, and the best central value for the tau collection you request is returned. We use the standard approach to get both uncalibrated versions of the collection and systematic error variations."
   ]
  },
  {
   "cell_type": "markdown",
   "metadata": {},
   "source": [
    "To grab the raw jets (without calibration) we just set the `uncalibrated_collection` parameter to `TauJets` (there is very little reason one will do this normally):"
   ]
  },
  {
   "cell_type": "code",
   "execution_count": 4,
   "metadata": {},
   "outputs": [],
   "source": [
    "raw_taus = (ds\n",
    "            .Select(lambda e: e.TauJets(uncalibrated_collection=\"TauJets\"))\n",
    "            .Select(lambda ts: {\n",
    "                'pt': [t.pt()/1000.0 for t in ts],\n",
    "                'eta': [t.eta() for t in ts],\n",
    "                'phi': [t.phi() for t in ts],\n",
    "            })\n",
    "            .AsAwkwardArray()\n",
    "            .value())"
   ]
  },
  {
   "cell_type": "markdown",
   "metadata": {},
   "source": [
    "The number of taus and the number of calibrated taus are quite different, so we'll need to match them in $\\eta$ and $\\phi$:"
   ]
  },
  {
   "cell_type": "code",
   "execution_count": 5,
   "metadata": {},
   "outputs": [],
   "source": [
    "raw_taus_matched = match_objects(taus, raw_taus)"
   ]
  },
  {
   "cell_type": "code",
   "execution_count": 6,
   "metadata": {},
   "outputs": [
    {
     "data": {
      "image/png": "[encoded data removed]",
      "text/plain": [
       "<Figure size 432x288 with 1 Axes>"
      ]
     },
     "metadata": {
      "needs_background": "light"
     },
     "output_type": "display_data"
    }
   ],
   "source": [
    "plt.hist(ak.flatten(taus.pt-raw_taus_matched.pt), bins=100, range=(-10, 10))\n",
    "plt.xlabel('$\\Delta p_T$ for calibrated taus matched to their raw taus [GeV]')\n",
    "plt.ylabel('Number of Taus')\n",
    "_ = plt.title('The effect of tau calibration on tau $p_T$ in $Z\\\\rightarrow \\\\tau\\\\tau$ events')"
   ]
  },
  {
   "cell_type": "markdown",
   "metadata": {},
   "source": [
    "If we instead want a particular systematic error, we need only name that error to get it back. Knowing what the names of the systematic errors, however, is not something that can be programmatically determined ahead of time. See the further information section at the end of this chapter to links to the ATLAS jet calibration info twiki."
   ]
  },
  {
   "cell_type": "code",
   "execution_count": 7,
   "metadata": {},
   "outputs": [],
   "source": [
    "sys_taus = (calib_tools.query_sys_error(ds, 'TAUS_TRUEHADTAU_SME_TES_DETECTOR__1up')\n",
    "           .Select(lambda e: e.TauJets())\n",
    "           .Select(lambda ts: {\n",
    "               'pt': [t.pt()/1000.0 for t in ts],\n",
    "               'eta': [t.eta() for t in ts],\n",
    "               'phi': [t.phi() for t in ts],\n",
    "           })\n",
    "           .AsAwkwardArray()\n",
    "           .value())"
   ]
  },
  {
   "cell_type": "code",
   "execution_count": 8,
   "metadata": {},
   "outputs": [],
   "source": [
    "sys_taus_matched = match_objects(taus, sys_taus)"
   ]
  },
  {
   "cell_type": "code",
   "execution_count": 9,
   "metadata": {},
   "outputs": [
    {
     "data": {
      "image/png": "[encoded data removed]",
      "text/plain": [
       "<Figure size 432x288 with 1 Axes>"
      ]
     },
     "metadata": {
      "needs_background": "light"
     },
     "output_type": "display_data"
    }
   ],
   "source": [
    "plt.hist(ak.flatten(taus.pt-sys_taus_matched.pt), bins=100, range=(-5, 5))\n",
    "plt.xlabel(r'$\\Delta p_T$ for calibrated taus matched to their $\\phi-\\eta$ raw taus [GeV]')\n",
    "plt.ylabel('Number of Taus')\n",
    "plt.yscale('log')\n",
    "_ = plt.title(r'The effect of a tau calibration sys error on tau $p_T$ in $Z\\rightarrow \\tau\\tau$ events')"
   ]
  },
  {
   "cell_type": "markdown",
   "metadata": {},
   "source": [
    "## The Datamodel\n",
    "\n",
    "The data model when this documentation was last built was:"
   ]
  },
  {
   "cell_type": "code",
   "execution_count": 10,
   "metadata": {},
   "outputs": [
    {
     "name": "stdout",
     "output_type": "stream",
     "text": [
      "Help on class TauJet_v3 in module func_adl_servicex_xaodr21.xAOD.taujet_v3:\n",
      "\n",
      "class TauJet_v3(builtins.object)\n",
      " |  A class\n",
      " |  \n",
      " |  Methods defined here:\n",
      " |  \n",
      " |  ROIWord(self) -> 'int'\n",
      " |      A method\n",
      " |  \n",
      " |  allTauTrackLinks(self) -> 'func_adl_servicex_xaodr21.vector_elementlink_datavector_xaod_tautrack_v1___.vector_ElementLink_DataVector_xAOD_TauTrack_v1___'\n",
      " |      A method\n",
      " |  \n",
      " |  allTauTrackLinksNonConst(self) -> 'func_adl_servicex_xaodr21.vector_elementlink_datavector_xaod_tautrack_v1___.vector_ElementLink_DataVector_xAOD_TauTrack_v1___'\n",
      " |      A method\n",
      " |  \n",
      " |  charge(self) -> 'float'\n",
      " |      A method\n",
      " |  \n",
      " |  chargedPFO(self, i: 'int') -> 'func_adl_servicex_xaodr21.xAOD.pfo_v1.PFO_v1'\n",
      " |      A method\n",
      " |  \n",
      " |  chargedPFOLinks(self) -> 'func_adl_servicex_xaodr21.vector_elementlink_datavector_xaod_pfo_v1___.vector_ElementLink_DataVector_xAOD_PFO_v1___'\n",
      " |      A method\n",
      " |  \n",
      " |  clearDecorations(self) -> 'bool'\n",
      " |      A method\n",
      " |  \n",
      " |  cluster(self, i: 'int') -> 'func_adl_servicex_xaodr21.xAOD.iparticle.IParticle'\n",
      " |      A method\n",
      " |  \n",
      " |  clusterLinks(self) -> 'func_adl_servicex_xaodr21.vector_elementlink_datavector_xaod_iparticle___.vector_ElementLink_DataVector_xAOD_IParticle___'\n",
      " |      A method\n",
      " |  \n",
      " |  e(self) -> 'float'\n",
      " |      A method\n",
      " |  \n",
      " |  eta(self) -> 'float'\n",
      " |      A method\n",
      " |  \n",
      " |  etaDetectorAxis(self) -> 'float'\n",
      " |      A method\n",
      " |  \n",
      " |  etaFinalCalib(self) -> 'float'\n",
      " |      A method\n",
      " |  \n",
      " |  etaIntermediateAxis(self) -> 'float'\n",
      " |      A method\n",
      " |  \n",
      " |  etaJetSeed(self) -> 'float'\n",
      " |      A method\n",
      " |  \n",
      " |  etaPanTauCellBased(self) -> 'float'\n",
      " |      A method\n",
      " |  \n",
      " |  etaPanTauCellBasedProto(self) -> 'float'\n",
      " |      A method\n",
      " |  \n",
      " |  etaTauEnergyScale(self) -> 'float'\n",
      " |      A method\n",
      " |  \n",
      " |  etaTauEtaCalib(self) -> 'float'\n",
      " |      A method\n",
      " |  \n",
      " |  etaTrigCaloOnly(self) -> 'float'\n",
      " |      A method\n",
      " |  \n",
      " |  hadronicPFO(self, i: 'int') -> 'func_adl_servicex_xaodr21.xAOD.pfo_v1.PFO_v1'\n",
      " |      A method\n",
      " |  \n",
      " |  hadronicPFOLinks(self) -> 'func_adl_servicex_xaodr21.vector_elementlink_datavector_xaod_pfo_v1___.vector_ElementLink_DataVector_xAOD_PFO_v1___'\n",
      " |      A method\n",
      " |  \n",
      " |  hasNonConstStore(self) -> 'bool'\n",
      " |      A method\n",
      " |  \n",
      " |  hasStore(self) -> 'bool'\n",
      " |      A method\n",
      " |  \n",
      " |  index(self) -> 'int'\n",
      " |      A method\n",
      " |  \n",
      " |  jet(self) -> 'func_adl_servicex_xaodr21.xAOD.jet_v1.Jet_v1'\n",
      " |      A method\n",
      " |  \n",
      " |  jetLink(self) -> 'func_adl_servicex_xaodr21.elementlink_datavector_xaod_jet_v1__.ElementLink_DataVector_xAOD_Jet_v1__'\n",
      " |      A method\n",
      " |  \n",
      " |  m(self) -> 'float'\n",
      " |      A method\n",
      " |  \n",
      " |  mDetectorAxis(self) -> 'float'\n",
      " |      A method\n",
      " |  \n",
      " |  mFinalCalib(self) -> 'float'\n",
      " |      A method\n",
      " |  \n",
      " |  mIntermediateAxis(self) -> 'float'\n",
      " |      A method\n",
      " |  \n",
      " |  mJetSeed(self) -> 'float'\n",
      " |      A method\n",
      " |  \n",
      " |  mPanTauCellBased(self) -> 'float'\n",
      " |      A method\n",
      " |  \n",
      " |  mPanTauCellBasedProto(self) -> 'float'\n",
      " |      A method\n",
      " |  \n",
      " |  mTauEnergyScale(self) -> 'float'\n",
      " |      A method\n",
      " |  \n",
      " |  mTauEtaCalib(self) -> 'float'\n",
      " |      A method\n",
      " |  \n",
      " |  mTrigCaloOnly(self) -> 'float'\n",
      " |      A method\n",
      " |  \n",
      " |  nAllTracks(self) -> 'int'\n",
      " |      A method\n",
      " |  \n",
      " |  nChargedPFOs(self) -> 'int'\n",
      " |      A method\n",
      " |  \n",
      " |  nClusters(self) -> 'int'\n",
      " |      A method\n",
      " |  \n",
      " |  nHadronicPFOs(self) -> 'int'\n",
      " |      A method\n",
      " |  \n",
      " |  nNeutralPFOs(self) -> 'int'\n",
      " |      A method\n",
      " |  \n",
      " |  nPi0PFOs(self) -> 'int'\n",
      " |      A method\n",
      " |  \n",
      " |  nPi0s(self) -> 'int'\n",
      " |      A method\n",
      " |  \n",
      " |  nProtoChargedPFOs(self) -> 'int'\n",
      " |      A method\n",
      " |  \n",
      " |  nProtoNeutralPFOs(self) -> 'int'\n",
      " |      A method\n",
      " |  \n",
      " |  nProtoPi0PFOs(self) -> 'int'\n",
      " |      A method\n",
      " |  \n",
      " |  nShotPFOs(self) -> 'int'\n",
      " |      A method\n",
      " |  \n",
      " |  nTracksCharged(self) -> 'int'\n",
      " |      A method\n",
      " |  \n",
      " |  nTracksIsolation(self) -> 'int'\n",
      " |      A method\n",
      " |  \n",
      " |  nTracksWithMask(self, classification: 'int') -> 'int'\n",
      " |      A method\n",
      " |  \n",
      " |  neutralPFO(self, i: 'int') -> 'func_adl_servicex_xaodr21.xAOD.pfo_v1.PFO_v1'\n",
      " |      A method\n",
      " |  \n",
      " |  neutralPFOLinks(self) -> 'func_adl_servicex_xaodr21.vector_elementlink_datavector_xaod_pfo_v1___.vector_ElementLink_DataVector_xAOD_PFO_v1___'\n",
      " |      A method\n",
      " |  \n",
      " |  p4(self) -> 'func_adl_servicex_xaodr21.tlorentzvector.TLorentzVector'\n",
      " |      A method\n",
      " |  \n",
      " |  phi(self) -> 'float'\n",
      " |      A method\n",
      " |  \n",
      " |  phiDetectorAxis(self) -> 'float'\n",
      " |      A method\n",
      " |  \n",
      " |  phiFinalCalib(self) -> 'float'\n",
      " |      A method\n",
      " |  \n",
      " |  phiIntermediateAxis(self) -> 'float'\n",
      " |      A method\n",
      " |  \n",
      " |  phiJetSeed(self) -> 'float'\n",
      " |      A method\n",
      " |  \n",
      " |  phiPanTauCellBased(self) -> 'float'\n",
      " |      A method\n",
      " |  \n",
      " |  phiPanTauCellBasedProto(self) -> 'float'\n",
      " |      A method\n",
      " |  \n",
      " |  phiTauEnergyScale(self) -> 'float'\n",
      " |      A method\n",
      " |  \n",
      " |  phiTauEtaCalib(self) -> 'float'\n",
      " |      A method\n",
      " |  \n",
      " |  phiTrigCaloOnly(self) -> 'float'\n",
      " |      A method\n",
      " |  \n",
      " |  pi0(self, i: 'int') -> 'func_adl_servicex_xaodr21.xAOD.iparticle.IParticle'\n",
      " |      A method\n",
      " |  \n",
      " |  pi0ConeDR(self) -> 'float'\n",
      " |      A method\n",
      " |  \n",
      " |  pi0Links(self) -> 'func_adl_servicex_xaodr21.vector_elementlink_datavector_xaod_iparticle___.vector_ElementLink_DataVector_xAOD_IParticle___'\n",
      " |      A method\n",
      " |  \n",
      " |  pi0PFO(self, i: 'int') -> 'func_adl_servicex_xaodr21.xAOD.pfo_v1.PFO_v1'\n",
      " |      A method\n",
      " |  \n",
      " |  pi0PFOLinks(self) -> 'func_adl_servicex_xaodr21.vector_elementlink_datavector_xaod_pfo_v1___.vector_ElementLink_DataVector_xAOD_PFO_v1___'\n",
      " |      A method\n",
      " |  \n",
      " |  protoChargedPFO(self, i: 'int') -> 'func_adl_servicex_xaodr21.xAOD.pfo_v1.PFO_v1'\n",
      " |      A method\n",
      " |  \n",
      " |  protoChargedPFOLinks(self) -> 'func_adl_servicex_xaodr21.vector_elementlink_datavector_xaod_pfo_v1___.vector_ElementLink_DataVector_xAOD_PFO_v1___'\n",
      " |      A method\n",
      " |  \n",
      " |  protoNeutralPFO(self, i: 'int') -> 'func_adl_servicex_xaodr21.xAOD.pfo_v1.PFO_v1'\n",
      " |      A method\n",
      " |  \n",
      " |  protoNeutralPFOLinks(self) -> 'func_adl_servicex_xaodr21.vector_elementlink_datavector_xaod_pfo_v1___.vector_ElementLink_DataVector_xAOD_PFO_v1___'\n",
      " |      A method\n",
      " |  \n",
      " |  protoPi0PFO(self, i: 'int') -> 'func_adl_servicex_xaodr21.xAOD.pfo_v1.PFO_v1'\n",
      " |      A method\n",
      " |  \n",
      " |  protoPi0PFOLinks(self) -> 'func_adl_servicex_xaodr21.vector_elementlink_datavector_xaod_pfo_v1___.vector_ElementLink_DataVector_xAOD_PFO_v1___'\n",
      " |      A method\n",
      " |  \n",
      " |  pt(self) -> 'float'\n",
      " |      A method\n",
      " |  \n",
      " |  ptDetectorAxis(self) -> 'float'\n",
      " |      A method\n",
      " |  \n",
      " |  ptFinalCalib(self) -> 'float'\n",
      " |      A method\n",
      " |  \n",
      " |  ptIntermediateAxis(self) -> 'float'\n",
      " |      A method\n",
      " |  \n",
      " |  ptJetSeed(self) -> 'float'\n",
      " |      A method\n",
      " |  \n",
      " |  ptPanTauCellBased(self) -> 'float'\n",
      " |      A method\n",
      " |  \n",
      " |  ptPanTauCellBasedProto(self) -> 'float'\n",
      " |      A method\n",
      " |  \n",
      " |  ptTauEnergyScale(self) -> 'float'\n",
      " |      A method\n",
      " |  \n",
      " |  ptTauEtaCalib(self) -> 'float'\n",
      " |      A method\n",
      " |  \n",
      " |  ptTrigCaloOnly(self) -> 'float'\n",
      " |      A method\n",
      " |  \n",
      " |  rapidity(self) -> 'float'\n",
      " |      A method\n",
      " |  \n",
      " |  secondaryVertex(self) -> 'func_adl_servicex_xaodr21.xAOD.vertex_v1.Vertex_v1'\n",
      " |      A method\n",
      " |  \n",
      " |  secondaryVertexLink(self) -> 'func_adl_servicex_xaodr21.elementlink_datavector_xaod_vertex_v1__.ElementLink_DataVector_xAOD_Vertex_v1__'\n",
      " |      A method\n",
      " |  \n",
      " |  shotPFO(self, i: 'int') -> 'func_adl_servicex_xaodr21.xAOD.pfo_v1.PFO_v1'\n",
      " |      A method\n",
      " |  \n",
      " |  shotPFOLinks(self) -> 'func_adl_servicex_xaodr21.vector_elementlink_datavector_xaod_pfo_v1___.vector_ElementLink_DataVector_xAOD_PFO_v1___'\n",
      " |      A method\n",
      " |  \n",
      " |  tauTrackLinksWithMask(self, noname_arg: 'int') -> 'func_adl_servicex_xaodr21.vector_elementlink_datavector_xaod_tautrack_v1___.vector_ElementLink_DataVector_xAOD_TauTrack_v1___'\n",
      " |      A method\n",
      " |  \n",
      " |  trackFilterProngs(self) -> 'int'\n",
      " |      A method\n",
      " |  \n",
      " |  trackFilterQuality(self) -> 'int'\n",
      " |      A method\n",
      " |  \n",
      " |  trackWithMask(self, i: 'int', mask: 'int', container_index: 'int') -> 'func_adl_servicex_xaodr21.xAOD.tautrack_v1.TauTrack_v1'\n",
      " |      A method\n",
      " |  \n",
      " |  usingPrivateStore(self) -> 'bool'\n",
      " |      A method\n",
      " |  \n",
      " |  usingStandaloneStore(self) -> 'bool'\n",
      " |      A method\n",
      " |  \n",
      " |  vertex(self) -> 'func_adl_servicex_xaodr21.xAOD.vertex_v1.Vertex_v1'\n",
      " |      A method\n",
      " |  \n",
      " |  vertexLink(self) -> 'func_adl_servicex_xaodr21.elementlink_datavector_xaod_vertex_v1__.ElementLink_DataVector_xAOD_Vertex_v1__'\n",
      " |      A method\n",
      " |  \n",
      " |  ----------------------------------------------------------------------\n",
      " |  Readonly properties defined here:\n",
      " |  \n",
      " |  auxdataConst\n",
      " |      A method\n",
      " |  \n",
      " |  isAvailable\n",
      " |      A method\n",
      " |  \n",
      " |  ----------------------------------------------------------------------\n",
      " |  Data descriptors defined here:\n",
      " |  \n",
      " |  __dict__\n",
      " |      dictionary for instance variables (if defined)\n",
      " |  \n",
      " |  __weakref__\n",
      " |      list of weak references to the object (if defined)\n",
      "\n"
     ]
    }
   ],
   "source": [
    "from func_adl_servicex_xaodr21.xAOD.taujet_v3 import TauJet_v3\n",
    "help(TauJet_v3)"
   ]
  },
  {
   "cell_type": "markdown",
   "metadata": {},
   "source": [
    "## Further Information\n",
    "\n",
    "* The [`xAOD::TauJet_v3` C++ header file](https://gitlab.cern.ch/atlas/athena/-/blob/21.2/Event/xAOD/xAODTau/xAODTau/versions/TauJet_v3.h) with all the inline documentation.\n",
    "* The [Tau Recommendation Pages for R21](https://twiki.cern.ch/twiki/bin/view/AtlasProtected/TauRecommendationsR21) on the ATLAS TWiki"
   ]
  }
 ],
 "metadata": {
  "interpreter": {
   "hash": "4373964a7db18cf126f92f2b701a24b82fcc263e81b1ec161a400db7f7fa2af5"
  },
  "kernelspec": {
   "display_name": "Python 3.9.6 64-bit (system)",
   "name": "python3"
  },
  "language_info": {
   "codemirror_mode": {
    "name": "ipython",
    "version": 3
   },
   "file_extension": ".py",
   "mimetype": "text/x-python",
   "name": "python",
   "nbconvert_exporter": "python",
   "pygments_lexer": "ipython3",
   "version": "3.9.6"
  },
  "orig_nbformat": 4
 },
 "nbformat": 4,
 "nbformat_minor": 2
}
