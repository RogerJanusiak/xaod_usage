{
 "cells": [
  {
   "cell_type": "markdown",
   "metadata": {},
   "source": [
    "# Missing $E_T$\n",
    "\n",
    "The missing energy is, from a technical point of view, funny in two respects:\n",
    "\n",
    "* It depends on pretty much all other objects in the event. So if you apply a correction to another object, you are forced to recalculate the Messing $E_T$.\n",
    "* It is stored as a collection of Missing $E_T$ objects. But, in reality, you are only ever interested in one of them."
   ]
  },
  {
   "cell_type": "code",
   "execution_count": 1,
   "metadata": {},
   "outputs": [],
   "source": [
    "from func_adl_servicex_xaodr21 import SXDSAtlasxAODR21\n",
    "import matplotlib.pyplot as plt\n",
    "from config import rucio_zee_r21_mc, xAODLocalTyped, local_xaod_path"
   ]
  },
  {
   "cell_type": "code",
   "execution_count": 2,
   "metadata": {},
   "outputs": [
    {
     "name": "stderr",
     "output_type": "stream",
     "text": [
      "Found backend type matching \"xaod\". Matching by type is depreciated. Please switch to using the \"name\" keyword in your servicex.yaml file.\n"
     ]
    }
   ],
   "source": [
    "# ds = SXDSAtlasxAODR21(rucio_zee_r21_mc, backend='dev_xaod')\n",
    "ds = xAODLocalTyped(local_xaod_path)"
   ]
  },
  {
   "cell_type": "markdown",
   "metadata": {},
   "source": [
    "We grab the first Missing $E_T$ item in the collection, as is usual for the `MET_Truth` bank here. Since `func_adl` works in terms of sequences, not arrays, we do this by picking off the `First` item."
   ]
  },
  {
   "cell_type": "code",
   "execution_count": 3,
   "metadata": {},
   "outputs": [
    {
     "name": "stderr",
     "output_type": "stream",
     "text": [
      "Function First not found on object typing.Iterable[func_adl_servicex_xaodr21.xAOD.missinget_v1.MissingET_v1]\n",
      "Warning: assuming that the method 'xAOD::MissingET_v1::met(...)' has return type 'double'. Use cpp_types.add_method_type_info to suppress (or correct) this warning.\n"
     ]
    }
   ],
   "source": [
    "events = (ds\n",
    "          .Select(lambda e: e.MissingET(\"MET_Truth\").First().met()/1000.0)\n",
    "          .AsAwkwardArray('met')\n",
    "          .value())"
   ]
  },
  {
   "cell_type": "code",
   "execution_count": 4,
   "metadata": {},
   "outputs": [
    {
     "data": {
      "image/png": "[encoded data removed]",
      "text/plain": [
       "<Figure size 432x288 with 1 Axes>"
      ]
     },
     "metadata": {
      "needs_background": "light"
     },
     "output_type": "display_data"
    }
   ],
   "source": [
    "plt.hist(events.met, bins=100, range=(0, 100))\n",
    "plt.xlabel('Missing $E_T$ [GeV]')\n",
    "plt.ylabel('Number of events')\n",
    "plt.yscale('log')\n",
    "_ = plt.title('Truth Missing $E_T$ distribution for $Z\\\\rightarrow ee$ events')"
   ]
  },
  {
   "cell_type": "markdown",
   "metadata": {},
   "source": [
    "## The Datamodel\n",
    "\n",
    "The data model when this documentation was last built was:"
   ]
  },
  {
   "cell_type": "code",
   "execution_count": 5,
   "metadata": {},
   "outputs": [
    {
     "name": "stdout",
     "output_type": "stream",
     "text": [
      "Help on class MissingET_v1 in module func_adl_servicex_xaodr21.xAOD.missinget_v1:\n",
      "\n",
      "class MissingET_v1(builtins.object)\n",
      " |  A class\n",
      " |  \n",
      " |  Methods defined here:\n",
      " |  \n",
      " |  clearDecorations(self) -> 'bool'\n",
      " |      A method\n",
      " |  \n",
      " |  hasNonConstStore(self) -> 'bool'\n",
      " |      A method\n",
      " |  \n",
      " |  hasStore(self) -> 'bool'\n",
      " |      A method\n",
      " |  \n",
      " |  index(self) -> 'int'\n",
      " |      A method\n",
      " |  \n",
      " |  met(self) -> 'float'\n",
      " |      A method\n",
      " |  \n",
      " |  mpx(self) -> 'float'\n",
      " |      A method\n",
      " |  \n",
      " |  mpy(self) -> 'float'\n",
      " |      A method\n",
      " |  \n",
      " |  nameHash(self) -> 'int'\n",
      " |      A method\n",
      " |  \n",
      " |  phi(self) -> 'float'\n",
      " |      A method\n",
      " |  \n",
      " |  sumet(self) -> 'float'\n",
      " |      A method\n",
      " |  \n",
      " |  usingPrivateStore(self) -> 'bool'\n",
      " |      A method\n",
      " |  \n",
      " |  usingStandaloneStore(self) -> 'bool'\n",
      " |      A method\n",
      " |  \n",
      " |  ----------------------------------------------------------------------\n",
      " |  Data descriptors defined here:\n",
      " |  \n",
      " |  __dict__\n",
      " |      dictionary for instance variables (if defined)\n",
      " |  \n",
      " |  __weakref__\n",
      " |      list of weak references to the object (if defined)\n",
      "\n"
     ]
    }
   ],
   "source": [
    "from func_adl_servicex_xaodr21.xAOD.missinget_v1 import MissingET_v1\n",
    "help(MissingET_v1)"
   ]
  },
  {
   "cell_type": "markdown",
   "metadata": {},
   "source": [
    "## Further Information\n",
    "\n",
    "* The [`xAOD::MissingET_v1` C++ header file](https://gitlab.cern.ch/atlas/athena/-/blob/21.2/Event/xAOD/xAODMissingET/xAODMissingET/versions/MissingET_v1.h) with all the inline documentation.\n",
    "* [Slides from a tutorial](https://indico.cern.ch/event/860971/contributions/3626404/attachments/1974159/3285070/met_200122.pdf) on Missing ET"
   ]
  }
 ],
 "metadata": {
  "interpreter": {
   "hash": "4373964a7db18cf126f92f2b701a24b82fcc263e81b1ec161a400db7f7fa2af5"
  },
  "kernelspec": {
   "display_name": "Python 3.9.6 64-bit (system)",
   "name": "python3"
  },
  "language_info": {
   "codemirror_mode": {
    "name": "ipython",
    "version": 3
   },
   "file_extension": ".py",
   "mimetype": "text/x-python",
   "name": "python",
   "nbconvert_exporter": "python",
   "pygments_lexer": "ipython3",
   "version": "3.9.6"
  },
  "orig_nbformat": 4
 },
 "nbformat": 4,
 "nbformat_minor": 2
}
