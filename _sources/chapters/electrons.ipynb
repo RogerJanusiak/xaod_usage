{
 "cells": [
  {
   "cell_type": "markdown",
   "metadata": {},
   "source": [
    "# The Electron Collection\n",
    "\n",
    "Electrons are single-track particles. They are reconstructed with energy deposits in the calorimeter and an associated track. There a number of `working_points` and `isolation`s defined by the Egamma working group. We will look at accessing a few of them.\n"
   ]
  },
  {
   "cell_type": "code",
   "execution_count": 15,
   "metadata": {},
   "outputs": [],
   "source": [
    "import matplotlib.pyplot as plt\n",
    "from config import ds_zee as ds\n",
    "from helpers import match_objects\n",
    "import awkward as ak"
   ]
  },
  {
   "cell_type": "markdown",
   "metadata": {},
   "source": [
    "The default electron we fetch is the so-called `MediumLHElectron` muon with `NonIso` isolation."
   ]
  },
  {
   "cell_type": "code",
   "execution_count": 16,
   "metadata": {},
   "outputs": [],
   "source": [
    "electrons = (ds\n",
    "            .SelectMany(lambda e: e.Electrons(\"Electrons\"))\n",
    "            .Select(lambda e: e.pt() / 1000.0)\n",
    "            .AsAwkwardArray('pt')\n",
    "            .value())"
   ]
  },
  {
   "cell_type": "code",
   "execution_count": 17,
   "metadata": {},
   "outputs": [
    {
     "data": {
      "image/png": "[encoded data removed]",
      "text/plain": [
       "<Figure size 432x288 with 1 Axes>"
      ]
     },
     "metadata": {
      "needs_background": "light"
     },
     "output_type": "display_data"
    }
   ],
   "source": [
    "plt.hist(electrons.pt, bins=100, range=(0, 100))\n",
    "plt.xlabel('Electron $p_T$ [GeV]')\n",
    "plt.ylabel('Number of electrons')\n",
    "_ = plt.title('Electron $p_T$ distribution for $Z\\\\rightarrow ee$ events')"
   ]
  },
  {
   "cell_type": "markdown",
   "metadata": {},
   "source": [
    "## Electron Types\n",
    "\n",
    "Electrons come in several different flavors. We can look at the different $\\eta$ distributions for the electrons. Isolation is another axis we can alter, not shown here, by changing the `isolation` argument to `Electrons`."
   ]
  },
  {
   "cell_type": "code",
   "execution_count": 18,
   "metadata": {},
   "outputs": [],
   "source": [
    "electrons = (ds\n",
    "             .Select(lambda e: {\n",
    "                 'tight_eta': e.Electrons(\"Electrons\", working_point='TightLHElectron').Select(lambda m: m.eta()),\n",
    "                 'loose_eta': e.Electrons(\"Electrons\", working_point='LooseLHElectron').Select(lambda m: m.eta()),\n",
    "                 'medium_eta': e.Electrons(\"Electrons\", working_point='MediumLHElectron').Select(lambda m: m.eta()),\n",
    "                 })\n",
    "             .AsAwkwardArray()\n",
    "             .value())"
   ]
  },
  {
   "cell_type": "code",
   "execution_count": 19,
   "metadata": {},
   "outputs": [
    {
     "data": {
      "image/png": "[encoded data removed]",
      "text/plain": [
       "<Figure size 432x288 with 1 Axes>"
      ]
     },
     "metadata": {
      "needs_background": "light"
     },
     "output_type": "display_data"
    }
   ],
   "source": [
    "plt.hist(ak.flatten(electrons.loose_eta), bins=50, range=(-3, 3), label='loose')\n",
    "plt.hist(ak.flatten(electrons.medium_eta), bins=50, range=(-3, 3), label='medium')\n",
    "plt.hist(ak.flatten(electrons.tight_eta), bins=50, range=(-3, 3), label='tight')\n",
    "plt.xlabel('Electron $\\\\eta$')\n",
    "plt.ylabel('Number of electrons')\n",
    "plt.title('Electron type $\\\\eta$ distribution for $Z\\\\rightarrow ee$ events')\n",
    "_ = plt.legend()"
   ]
  },
  {
   "cell_type": "markdown",
   "metadata": {},
   "source": [
    "## Calibration\n",
    "\n",
    "By default the muons we pulled are `Medium` quality and calibrated. One can request different systematic errors using the `calibration` argument to the `Muons` method."
   ]
  },
  {
   "cell_type": "code",
   "execution_count": 20,
   "metadata": {},
   "outputs": [],
   "source": [
    "electrons = (ds\n",
    "             .Select(lambda e: e.Electrons(\"Electrons\"))\n",
    "             .Select(lambda eles: {\n",
    "                 'pt': eles.Select(lambda e: e.pt() / 1000.0),\n",
    "                 'eta': eles.Select(lambda e: e.eta()),\n",
    "                 'phi': eles.Select(lambda e: e.phi()),\n",
    "             })\n",
    "             .AsAwkwardArray()\n",
    "             .value())"
   ]
  },
  {
   "cell_type": "markdown",
   "metadata": {},
   "source": [
    "To grab the raw jets (without calibration) we just set the `calibrated` parameter to `False` (there is very little reason one will do this normally):"
   ]
  },
  {
   "cell_type": "code",
   "execution_count": 21,
   "metadata": {},
   "outputs": [],
   "source": [
    "raw_electrons = (ds\n",
    "                 .Select(lambda e: e.Electrons(\"Electrons\", calibration=None))\n",
    "                 .Select(lambda eles: {\n",
    "                     'pt': eles.Select(lambda j: j.pt() / 1000.0),\n",
    "                     'eta': eles.Select(lambda j: j.eta()),\n",
    "                     'phi': eles.Select(lambda j: j.phi()),\n",
    "                 })\n",
    "                 .AsAwkwardArray()\n",
    "                 .value())"
   ]
  },
  {
   "cell_type": "markdown",
   "metadata": {},
   "source": [
    "The number of raw jets and the number of calibrated jets are quite different from the number of raw jets, so we'll need to match them in $\\eta$ and $\\phi$:"
   ]
  },
  {
   "cell_type": "code",
   "execution_count": 22,
   "metadata": {},
   "outputs": [],
   "source": [
    "raw_electrons_matched = match_objects(electrons, raw_electrons)"
   ]
  },
  {
   "cell_type": "markdown",
   "metadata": {},
   "source": [
    "Note the units along the x-axis here!! We are using **MeV** not *GeV*!"
   ]
  },
  {
   "cell_type": "code",
   "execution_count": 23,
   "metadata": {},
   "outputs": [
    {
     "data": {
      "image/png": "[encoded data removed]",
      "text/plain": [
       "<Figure size 432x288 with 1 Axes>"
      ]
     },
     "metadata": {
      "needs_background": "light"
     },
     "output_type": "display_data"
    }
   ],
   "source": [
    "plt.hist(ak.flatten(electrons.pt-raw_electrons_matched.pt), bins=50, range=(-0.5, 0.5))\n",
    "plt.xlabel('$\\Delta p_T$ for calibrated electrons matched to their raw electrons [MeV]')\n",
    "plt.ylabel('Number of electrons')\n",
    "_ = plt.title('The effect of electron calibration on muon $p_T$ in $Z\\\\rightarrow ee$ events')"
   ]
  },
  {
   "cell_type": "markdown",
   "metadata": {},
   "source": [
    "If we instead want a particular systematic error, we need only name that error to get it back. Knowing what the names of the systematic errors, however, is not something that can be programmatically determined ahead of time. See the further information section at the end of this chapter to links to the ATLAS muon calibration info twiki."
   ]
  },
  {
   "cell_type": "code",
   "execution_count": 24,
   "metadata": {},
   "outputs": [],
   "source": [
    "sys_electrons = (ds\n",
    "                 .Select(lambda e: e.Electrons(\"Electrons\", calibration=\"EG_RESOLUTION_ALL__1up\"))\n",
    "                 .Select(lambda eles: {\n",
    "                      'pt': eles.Select(lambda j: j.pt() / 1000.0),\n",
    "                      'eta': eles.Select(lambda j: j.eta()),\n",
    "                      'phi': eles.Select(lambda j: j.phi()),\n",
    "                      })\n",
    "                 .AsAwkwardArray()\n",
    "                 .value())"
   ]
  },
  {
   "cell_type": "code",
   "execution_count": 25,
   "metadata": {},
   "outputs": [],
   "source": [
    "sys_electrons_match = match_objects(electrons, sys_electrons)"
   ]
  },
  {
   "cell_type": "code",
   "execution_count": 26,
   "metadata": {},
   "outputs": [
    {
     "data": {
      "image/png": "[encoded data removed]",
      "text/plain": [
       "<Figure size 432x288 with 1 Axes>"
      ]
     },
     "metadata": {
      "needs_background": "light"
     },
     "output_type": "display_data"
    }
   ],
   "source": [
    "plt.hist(ak.flatten(electrons.pt-sys_electrons_match.pt), bins=50, range=(-0.5, 0.5))\n",
    "plt.xlabel('$\\Delta p_T$ for calibrated electrons matched to their reco stat muons [GeV]')\n",
    "plt.ylabel('Number of Electrons')\n",
    "_ = plt.title('The effect of a electron calibration sys error on muon $p_T$ in $Z\\\\rightarrow ee$ events')"
   ]
  },
  {
   "cell_type": "markdown",
   "metadata": {},
   "source": [
    "## The Data Model\n",
    "\n",
    "The data model when this documentation was last built is."
   ]
  },
  {
   "cell_type": "code",
   "execution_count": 27,
   "metadata": {},
   "outputs": [
    {
     "name": "stdout",
     "output_type": "stream",
     "text": [
      "Help on class Electron_v1 in module func_adl_servicex_xaodr21.xAOD.electron_v1:\n",
      "\n",
      "class Electron_v1(builtins.object)\n",
      " |  A class\n",
      " |  \n",
      " |  Methods defined here:\n",
      " |  \n",
      " |  OQ(self) -> 'int'\n",
      " |      A method\n",
      " |  \n",
      " |  ambiguousObject(self) -> 'func_adl_servicex_xaodr21.xAOD.egamma_v1.Egamma_v1'\n",
      " |      A method\n",
      " |  \n",
      " |  caloCluster(self, index: 'int') -> 'func_adl_servicex_xaodr21.xAOD.calocluster_v1.CaloCluster_v1'\n",
      " |      A method\n",
      " |  \n",
      " |  caloClusterLink(self, index: 'int') -> 'func_adl_servicex_xaodr21.elementlink_datavector_xaod_calocluster_v1__.ElementLink_DataVector_xAOD_CaloCluster_v1__'\n",
      " |      A method\n",
      " |  \n",
      " |  caloClusterLinks(self) -> 'func_adl_servicex_xaodr21.vector_elementlink_datavector_xaod_calocluster_v1___.vector_ElementLink_DataVector_xAOD_CaloCluster_v1___'\n",
      " |      A method\n",
      " |  \n",
      " |  charge(self) -> 'float'\n",
      " |      A method\n",
      " |  \n",
      " |  clearDecorations(self) -> 'bool'\n",
      " |      A method\n",
      " |  \n",
      " |  e(self) -> 'float'\n",
      " |      A method\n",
      " |  \n",
      " |  eta(self) -> 'float'\n",
      " |      A method\n",
      " |  \n",
      " |  hasNonConstStore(self) -> 'bool'\n",
      " |      A method\n",
      " |  \n",
      " |  hasStore(self) -> 'bool'\n",
      " |      A method\n",
      " |  \n",
      " |  index(self) -> 'int'\n",
      " |      A method\n",
      " |  \n",
      " |  isGoodOQ(self, mask: 'int') -> 'bool'\n",
      " |      A method\n",
      " |  \n",
      " |  m(self) -> 'float'\n",
      " |      A method\n",
      " |  \n",
      " |  nCaloClusters(self) -> 'int'\n",
      " |      A method\n",
      " |  \n",
      " |  nTrackParticles(self) -> 'int'\n",
      " |      A method\n",
      " |  \n",
      " |  p4(self) -> 'func_adl_servicex_xaodr21.tlorentzvector.TLorentzVector'\n",
      " |      A method\n",
      " |  \n",
      " |  phi(self) -> 'float'\n",
      " |      A method\n",
      " |  \n",
      " |  pt(self) -> 'float'\n",
      " |      A method\n",
      " |  \n",
      " |  rapidity(self) -> 'float'\n",
      " |      A method\n",
      " |  \n",
      " |  trackParticle(self, index: 'int') -> 'func_adl_servicex_xaodr21.xAOD.trackparticle_v1.TrackParticle_v1'\n",
      " |      A method\n",
      " |  \n",
      " |  trackParticleLink(self, index: 'int') -> 'func_adl_servicex_xaodr21.elementlink_datavector_xaod_trackparticle_v1__.ElementLink_DataVector_xAOD_TrackParticle_v1__'\n",
      " |      A method\n",
      " |  \n",
      " |  trackParticleLinks(self) -> 'func_adl_servicex_xaodr21.vector_elementlink_datavector_xaod_trackparticle_v1___.vector_ElementLink_DataVector_xAOD_TrackParticle_v1___'\n",
      " |      A method\n",
      " |  \n",
      " |  usingPrivateStore(self) -> 'bool'\n",
      " |      A method\n",
      " |  \n",
      " |  usingStandaloneStore(self) -> 'bool'\n",
      " |      A method\n",
      " |  \n",
      " |  ----------------------------------------------------------------------\n",
      " |  Data descriptors defined here:\n",
      " |  \n",
      " |  __dict__\n",
      " |      dictionary for instance variables (if defined)\n",
      " |  \n",
      " |  __weakref__\n",
      " |      list of weak references to the object (if defined)\n",
      "\n"
     ]
    }
   ],
   "source": [
    "from func_adl_servicex_xaodr21.xAOD.electron_v1 import Electron_v1\n",
    "help(Electron_v1)"
   ]
  },
  {
   "cell_type": "markdown",
   "metadata": {},
   "source": [
    "## Further Information\n",
    "\n",
    "* The [`xAOD::Electron_v1` C++ header file](https://gitlab.cern.ch/atlas/athena/-/blob/21.2/Event/xAOD/xAODEgamma/xAODEgamma/versions/Electron_v1.h) with all the inline documentation.\n",
    "* The [Electron Recommendation Pages for R21](https://twiki.cern.ch/twiki/bin/view/AtlasProtected/LatestRecommendationsElectronIDRun2) on the ATLAS TWiki\n",
    "* The [Electron Working Points Pages for R21](https://twiki.cern.ch/twiki/bin/view/AtlasProtected/EGammaIdentificationRun2) on the ATLAS Twiki"
   ]
  }
 ],
 "metadata": {
  "interpreter": {
   "hash": "4373964a7db18cf126f92f2b701a24b82fcc263e81b1ec161a400db7f7fa2af5"
  },
  "kernelspec": {
   "display_name": "Python 3.9.6 64-bit (system)",
   "name": "python3"
  },
  "language_info": {
   "codemirror_mode": {
    "name": "ipython",
    "version": 3
   },
   "file_extension": ".py",
   "mimetype": "text/x-python",
   "name": "python",
   "nbconvert_exporter": "python",
   "pygments_lexer": "ipython3",
   "version": "3.9.6"
  },
  "orig_nbformat": 4
 },
 "nbformat": 4,
 "nbformat_minor": 2
}
