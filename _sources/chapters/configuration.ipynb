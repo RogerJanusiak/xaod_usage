{
 "cells": [
  {
   "cell_type": "markdown",
   "id": "325e888e",
   "metadata": {},
   "source": [
    "(ch-configuration)=\n",
    "# Configuration\n",
    "\n",
    "In order to run the notebook pages in this book, you'll need to use `pipy` to install a few packages:\n",
    "\n",
    "```text\n",
    "jupyter-book\n",
    "matplotlib\n",
    "numpy\n",
    "func-adl-servicex\n",
    "particle\n",
    "hist[plot]\n",
    "```\n",
    "\n",
    "## Releases\n",
    "\n",
    "All the plots were produced on the following atlas xAOD release:"
   ]
  },
  {
   "cell_type": "code",
   "execution_count": 1,
   "id": "62a78a22",
   "metadata": {},
   "outputs": [
    {
     "name": "stdout",
     "output_type": "stream",
     "text": [
      "21.2.184\n"
     ]
    }
   ],
   "source": [
    "from func_adl_servicex_xaodr21 import atlas_release\n",
    "print(atlas_release)"
   ]
  }
 ],
 "metadata": {
  "jupytext": {
   "formats": "md:myst",
   "text_representation": {
    "extension": ".md",
    "format_name": "myst"
   }
  },
  "kernelspec": {
   "display_name": "Python 3",
   "language": "python",
   "name": "python3"
  },
  "language_info": {
   "codemirror_mode": {
    "name": "ipython",
    "version": 3
   },
   "file_extension": ".py",
   "mimetype": "text/x-python",
   "name": "python",
   "nbconvert_exporter": "python",
   "pygments_lexer": "ipython3",
   "version": "3.9.6"
  },
  "source_map": [
   11,
   31
  ]
 },
 "nbformat": 4,
 "nbformat_minor": 5
}