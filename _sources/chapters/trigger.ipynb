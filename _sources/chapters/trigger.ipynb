{
 "cells": [
  {
   "cell_type": "markdown",
   "metadata": {},
   "source": [
    "# Accessing the Trigger\n",
    "\n",
    "In ATLAS all access to trigger data is via the Trigger Decision Tool (TDT). There is quite a bit of information attached to the trigger, and its layout is quite complex - for that reason one should use the TDT to access the data."
   ]
  },
  {
   "cell_type": "code",
   "execution_count": 1,
   "metadata": {},
   "outputs": [
    {
     "name": "stderr",
     "output_type": "stream",
     "text": [
      "Found backend type matching \"xaod\". Matching by type is depreciated. Please switch to using the \"name\" keyword in your servicex.yaml file.\n",
      "Found backend type matching \"xaod\". Matching by type is depreciated. Please switch to using the \"name\" keyword in your servicex.yaml file.\n",
      "Found backend type matching \"xaod\". Matching by type is depreciated. Please switch to using the \"name\" keyword in your servicex.yaml file.\n",
      "Found backend type matching \"xaod\". Matching by type is depreciated. Please switch to using the \"name\" keyword in your servicex.yaml file.\n"
     ]
    }
   ],
   "source": [
    "import matplotlib.pyplot as plt\n",
    "from config import ds_zee as ds\n",
    "from func_adl_servicex_xaodr21 import tdt_chain_fired, tmt_match_object"
   ]
  },
  {
   "cell_type": "markdown",
   "metadata": {},
   "source": [
    "## Looking for events that fired a chain\n",
    "\n",
    "Lets look at $Z \\rightarrow ee$ Monte Carlo for a single electron trigger in the event."
   ]
  },
  {
   "cell_type": "code",
   "execution_count": 2,
   "metadata": {},
   "outputs": [],
   "source": [
    "n_electrons = (ds.Select(lambda e:\n",
    "                            {\n",
    "                                \"n_ele\": e.Electrons(\"Electrons\").Where(lambda e: abs(e.eta()) < 2.5).Count(),\n",
    "                                \"fired\": tdt_chain_fired(\"HLT_e60_lhmedium_nod0\"),\n",
    "                            })\n",
    "                .AsAwkwardArray()\n",
    "                .value()\n",
    "               )"
   ]
  },
  {
   "cell_type": "code",
   "execution_count": 3,
   "metadata": {},
   "outputs": [
    {
     "data": {
      "image/png": "[encoded data removed]",
      "text/plain": [
       "<Figure size 432x288 with 1 Axes>"
      ]
     },
     "metadata": {
      "needs_background": "light"
     },
     "output_type": "display_data"
    }
   ],
   "source": [
    "plt.hist(n_electrons.n_ele, bins=4, range=(0, 4), label='All Events')\n",
    "plt.hist(n_electrons.n_ele[n_electrons.fired], bins=4, range=(0, 4), label='Fired Events')\n",
    "plt.xlabel('Number of Electrons')\n",
    "plt.ylabel('Number of Events')\n",
    "plt.title('Electron Trigger and Number of Electrons in the Event')\n",
    "_ = plt.legend()"
   ]
  },
  {
   "cell_type": "markdown",
   "metadata": {},
   "source": [
    "## Trigger Matching\n",
    "\n",
    "Next, let's find the electrons that matched that trigger that fired above. We'll do this by looking only at events where the trigger has fired, and then asking each electron if it matches withing a $\\Delta R$."
   ]
  },
  {
   "cell_type": "code",
   "execution_count": 4,
   "metadata": {},
   "outputs": [],
   "source": [
    "matched_electrons = (\n",
    "    ds.Where(lambda e: tdt_chain_fired(\"HLT_e60_lhmedium_nod0\"))\n",
    "    .SelectMany(lambda e: e.Electrons(\"Electrons\"))\n",
    "    .Select(\n",
    "        lambda e: {\n",
    "            \"pt\": e.pt() / 1001.0,\n",
    "            \"eta\": e.eta(),\n",
    "            \"is_trig\": tmt_match_object(\"HLT_e60_lhmedium_nod0\", e, 0.7),\n",
    "        }\n",
    "    )\n",
    "    .AsAwkwardArray()\n",
    "    .value()\n",
    ")"
   ]
  },
  {
   "cell_type": "code",
   "execution_count": 5,
   "metadata": {},
   "outputs": [
    {
     "data": {
      "image/png": "[encoded data removed]",
      "text/plain": [
       "<Figure size 432x288 with 1 Axes>"
      ]
     },
     "metadata": {
      "needs_background": "light"
     },
     "output_type": "display_data"
    }
   ],
   "source": [
    "plt.hist(matched_electrons.pt, bins=100, range=(0, 100), label='All Electrons')\n",
    "trigger_electrons = matched_electrons[matched_electrons.is_trig]\n",
    "plt.hist(trigger_electrons.pt, bins=100, range=(0, 100), label='Trigger Electrons')\n",
    "plt.xlabel('Electron $p_T$ [GeV]')\n",
    "plt.ylabel('Number of Electrons')\n",
    "_ = plt.legend()"
   ]
  },
  {
   "cell_type": "markdown",
   "metadata": {},
   "source": [
    "## Further Information\n",
    "\n",
    "* Tutorial on [trigger for analysis](https://indico.cern.ch/event/860971/contributions/3626403/attachments/1973400/3283452/200122_TriggerTutorial.pdf).\n",
    "* Trigger Group's [Trigger Analysis Tool](https://twiki.cern.ch/twiki/bin/view/Atlas/TriggerAnalysisTools) twiki page (with a [page devoted to the TDT](https://twiki.cern.ch/twiki/bin/view/Atlas/TrigDecisionTool)).\n",
    "* [Lowest un-prescaled triggers](https://twiki.cern.ch/twiki/bin/view/Atlas/LowestUnprescaled) per data-taking period twiki."
   ]
  }
 ],
 "metadata": {
  "interpreter": {
   "hash": "4373964a7db18cf126f92f2b701a24b82fcc263e81b1ec161a400db7f7fa2af5"
  },
  "kernelspec": {
   "display_name": "Python 3.9.6 64-bit ('xaod-usage-w68Kx7k0-py3.9': poetry)",
   "language": "python",
   "name": "python3"
  },
  "language_info": {
   "codemirror_mode": {
    "name": "ipython",
    "version": 3
   },
   "file_extension": ".py",
   "mimetype": "text/x-python",
   "name": "python",
   "nbconvert_exporter": "python",
   "pygments_lexer": "ipython3",
   "version": "3.9.6"
  },
  "orig_nbformat": 4
 },
 "nbformat": 4,
 "nbformat_minor": 2
}
