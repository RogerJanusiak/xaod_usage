{
 "cells": [
  {
   "cell_type": "markdown",
   "metadata": {},
   "source": [
    "# The Muon Collection\n",
    "\n",
    "Muons are single-track particles. They can be reconstructed from hits in the tracking, calorimeter, and, of course, the muons chambers. Like electrons, there are several versions of the same muons that one can access (`Tight`, `Medium`, etc.).\n"
   ]
  },
  {
   "cell_type": "code",
   "execution_count": 1,
   "metadata": {},
   "outputs": [
    {
     "name": "stderr",
     "output_type": "stream",
     "text": [
      "Found backend type matching \"xaod\". Matching by type is depreciated. Please switch to using the \"name\" keyword in your servicex.yaml file.\n",
      "Found backend type matching \"xaod\". Matching by type is depreciated. Please switch to using the \"name\" keyword in your servicex.yaml file.\n",
      "Found backend type matching \"xaod\". Matching by type is depreciated. Please switch to using the \"name\" keyword in your servicex.yaml file.\n"
     ]
    }
   ],
   "source": [
    "from func_adl_servicex_xaodr21 import SXDSAtlasxAODR21\n",
    "import matplotlib.pyplot as plt\n",
    "from config import ds_zmumu as ds\n",
    "import awkward as ak\n",
    "import numpy as np"
   ]
  },
  {
   "cell_type": "markdown",
   "metadata": {},
   "source": [
    "The default muon we fetch is the so-called `Medium` muon with `NonIso` isolation. Unfortunately, the MC we are working with for this demo contains very few muons!"
   ]
  },
  {
   "cell_type": "code",
   "execution_count": 2,
   "metadata": {},
   "outputs": [],
   "source": [
    "muons = (ds\n",
    "        .SelectMany(lambda e: e.Muons(\"Muons\"))\n",
    "        .Where(lambda m: (m.pt() / 1000) > 30)\n",
    "        .Select(lambda m: m.pt() / 1000.0)\n",
    "        .AsAwkwardArray('pt')\n",
    "        .value())"
   ]
  },
  {
   "cell_type": "code",
   "execution_count": 3,
   "metadata": {},
   "outputs": [
    {
     "data": {
      "image/png": "[encoded data removed]",
      "text/plain": [
       "<Figure size 432x288 with 1 Axes>"
      ]
     },
     "metadata": {
      "needs_background": "light"
     },
     "output_type": "display_data"
    }
   ],
   "source": [
    "plt.hist(muons.pt, bins=100, range=(0, 100))\n",
    "plt.xlabel('Muon $p_T$ [GeV]')\n",
    "plt.ylabel('Number of muons')\n",
    "_ = plt.title('Muon $p_T$ distribution for $Z\\\\rightarrow ee$ events')"
   ]
  },
  {
   "cell_type": "markdown",
   "metadata": {},
   "source": [
    "## Muon Types\n",
    "\n",
    "Muons come in several different flavors. In this sample with very few muons, we can look at the different $\\eta$ distributions for what muons are there:"
   ]
  },
  {
   "cell_type": "code",
   "execution_count": 4,
   "metadata": {},
   "outputs": [],
   "source": [
    "muons = (ds\n",
    "        .Select(lambda e: {\n",
    "            'tight_eta': e.Muons(\"Muons\", working_point='Tight').Select(lambda m: m.eta()),\n",
    "            'loose_eta': e.Muons(\"Muons\", working_point='Loose').Select(lambda m: m.eta()),\n",
    "            'medium_eta': e.Muons(\"Muons\", working_point='Medium').Select(lambda m: m.eta()),\n",
    "        })\n",
    "        .AsAwkwardArray()\n",
    "        .value())"
   ]
  },
  {
   "cell_type": "code",
   "execution_count": 5,
   "metadata": {},
   "outputs": [
    {
     "data": {
      "text/plain": [
       "<matplotlib.legend.Legend at 0x1d5bc8a6040>"
      ]
     },
     "execution_count": 5,
     "metadata": {},
     "output_type": "execute_result"
    },
    {
     "data": {
      "image/png": "[encoded data removed]",
      "text/plain": [
       "<Figure size 432x288 with 1 Axes>"
      ]
     },
     "metadata": {
      "needs_background": "light"
     },
     "output_type": "display_data"
    }
   ],
   "source": [
    "plt.hist(ak.flatten(muons.loose_eta), bins=50, range=(-3, 3), label='loose')\n",
    "plt.hist(ak.flatten(muons.medium_eta), bins=50, range=(-3, 3), label='medium')\n",
    "plt.hist(ak.flatten(muons.tight_eta), bins=50, range=(-3, 3), label='tight')\n",
    "plt.legend()"
   ]
  },
  {
   "cell_type": "markdown",
   "metadata": {},
   "source": [
    "## Calibration\n",
    "\n",
    "By default the muons we pulled are `Medium` quality and calibrated. One can request different systematic errors using the `calibration` argument to the `Muons` method."
   ]
  },
  {
   "cell_type": "code",
   "execution_count": 6,
   "metadata": {},
   "outputs": [],
   "source": [
    "muons = (ds\n",
    "        .Select(lambda e: e.Muons(\"Muons\"))\n",
    "        .Select(lambda muons: {\n",
    "            'pt': muons.Select(lambda m: m.pt() / 1000.0),\n",
    "            'eta': muons.Select(lambda m: m.eta()),\n",
    "            'phi': muons.Select(lambda m: m.phi()),\n",
    "        })\n",
    "        .AsAwkwardArray()\n",
    "        .value())"
   ]
  },
  {
   "cell_type": "markdown",
   "metadata": {},
   "source": [
    "To grab the raw jets (without calibration) we just set the `calibrated` parameter to `None` (there is very little reason one will do this normally):"
   ]
  },
  {
   "cell_type": "code",
   "execution_count": 7,
   "metadata": {},
   "outputs": [],
   "source": [
    "raw_muons = (ds\n",
    "             .Select(lambda e: e.Muons(\"Muons\", calibration=None))\n",
    "             .Select(lambda muons: {\n",
    "                 'pt': muons.Select(lambda m: m.pt() / 1000.0),\n",
    "                 'eta': muons.Select(lambda m: m.eta()),\n",
    "                 'phi': muons.Select(lambda m: m.phi()),\n",
    "             })\n",
    "             .AsAwkwardArray()\n",
    "             .value())"
   ]
  },
  {
   "cell_type": "markdown",
   "metadata": {},
   "source": [
    "The number of raw jets and the number of calibrated jets are quite different from the number of raw jets, so we'll need to match them in $\\eta$ and $\\phi$:"
   ]
  },
  {
   "cell_type": "code",
   "execution_count": 8,
   "metadata": {},
   "outputs": [
    {
     "data": {
      "text/plain": [
       "(50000, 50000)"
      ]
     },
     "execution_count": 8,
     "metadata": {},
     "output_type": "execute_result"
    }
   ],
   "source": [
    "len(raw_muons), len(muons)"
   ]
  },
  {
   "cell_type": "code",
   "execution_count": 9,
   "metadata": {},
   "outputs": [],
   "source": [
    "def match(jets, jets_to_match):\n",
    "    'Find the closest eta/phi jet in jets_to_match for each jet in jets'\n",
    "\n",
    "    to_match_pt = jets_to_match.pt\n",
    "    to_match_eta = jets_to_match.eta\n",
    "    to_match_phi = jets_to_match.phi\n",
    "    jet_eta = jets.eta\n",
    "    jet_phi = jets.phi\n",
    "\n",
    "    pair_eta = ak.cartesian([jet_eta, to_match_eta], axis=1, nested=True)\n",
    "    pair_phi = ak.cartesian([jet_phi, to_match_phi], axis=1, nested=True)\n",
    "\n",
    "    delta_eta = np.abs(pair_eta[:, :, :][\"0\"] - pair_eta[:, :, :][\"1\"])\n",
    "    # TODO: Missing wrap around fro phi\n",
    "    delta_phi = np.abs(pair_phi[:, :, :][\"0\"] - pair_phi[:, :, :][\"1\"])\n",
    "\n",
    "    delta = delta_eta**2 + delta_phi**2\n",
    "\n",
    "    # TODO: remove anything larger that 0.2*0.2\n",
    "    best_match = ak.argmin(delta, axis=2)\n",
    "\n",
    "    return ak.Record({\"eta\": to_match_eta[best_match], \"phi\": to_match_phi[best_match], \"pt\": to_match_pt[best_match]})\n",
    "\n",
    "raw_muons_matched = match(muons, raw_muons)"
   ]
  },
  {
   "cell_type": "markdown",
   "metadata": {},
   "source": [
    "Note the units along the x-axis here!! We are using **MeV** not *GeV*!"
   ]
  },
  {
   "cell_type": "code",
   "execution_count": 10,
   "metadata": {},
   "outputs": [
    {
     "data": {
      "image/png": "[encoded data removed]",
      "text/plain": [
       "<Figure size 432x288 with 1 Axes>"
      ]
     },
     "metadata": {
      "needs_background": "light"
     },
     "output_type": "display_data"
    }
   ],
   "source": [
    "plt.hist(ak.flatten(muons.pt-raw_muons_matched.pt), bins=50, range=(-0.8, 0.8))\n",
    "plt.xlabel('$\\Delta p_T$ for calibrated muons matched to their raw muons [GeV]')\n",
    "plt.ylabel('Number of muons')\n",
    "_ = plt.title('The effect of muon calibration on muon $p_T$ in $Z\\\\rightarrow ee$ events')"
   ]
  },
  {
   "cell_type": "markdown",
   "metadata": {},
   "source": [
    "If we instead want a particular systematic error, we need only name that error to get it back. Knowing what the names of the systematic errors, however, is not something that can be programmatically determined ahead of time. See the further information section at the end of this chapter to links to the ATLAS muon calibration info twiki."
   ]
  },
  {
   "cell_type": "code",
   "execution_count": 11,
   "metadata": {},
   "outputs": [],
   "source": [
    "sys_muon = (ds\n",
    "           .Select(lambda e: e.Muons(\"Muons\", calibration=\"MUON_ID__1up\"))\n",
    "           .Select(lambda muons: {\n",
    "               'pt': muons.Select(lambda m: m.pt() / 1000.0),\n",
    "               'eta': muons.Select(lambda m: m.eta()),\n",
    "               'phi': muons.Select(lambda m: m.phi()),\n",
    "           })\n",
    "           .AsAwkwardArray()\n",
    "           .value())"
   ]
  },
  {
   "cell_type": "code",
   "execution_count": 12,
   "metadata": {},
   "outputs": [],
   "source": [
    "sys_muons_matched = match(muons, sys_muon)"
   ]
  },
  {
   "cell_type": "code",
   "execution_count": 13,
   "metadata": {},
   "outputs": [
    {
     "data": {
      "image/png": "[encoded data removed]",
      "text/plain": [
       "<Figure size 432x288 with 1 Axes>"
      ]
     },
     "metadata": {
      "needs_background": "light"
     },
     "output_type": "display_data"
    }
   ],
   "source": [
    "plt.hist(ak.flatten(muons.pt-sys_muons_matched.pt)/1000.0, bins=50, range=(-0.002, 0.002))\n",
    "plt.xlabel('$\\Delta p_T$ for calibrated muons matched to their reco stat muons [MeV]')\n",
    "plt.ylabel('Number of muons')\n",
    "_ = plt.title('The effect of a muon calibration sys error on muon $p_T$ in $Z\\\\rightarrow ee$ events')"
   ]
  },
  {
   "cell_type": "markdown",
   "metadata": {},
   "source": [
    "## The Data Model\n",
    "\n",
    "The data model when this documentation was last built is."
   ]
  },
  {
   "cell_type": "code",
   "execution_count": 14,
   "metadata": {},
   "outputs": [
    {
     "name": "stdout",
     "output_type": "stream",
     "text": [
      "Help on class Muon_v1 in module func_adl_servicex_xaodr21.xAOD.muon_v1:\n",
      "\n",
      "class Muon_v1(builtins.object)\n",
      " |  A class\n",
      " |  \n",
      " |  Methods defined here:\n",
      " |  \n",
      " |  charge(self) -> 'float'\n",
      " |      A method\n",
      " |  \n",
      " |  clearDecorations(self) -> 'bool'\n",
      " |      A method\n",
      " |  \n",
      " |  cluster(self) -> 'func_adl_servicex_xaodr21.xAOD.calocluster_v1.CaloCluster_v1'\n",
      " |      A method\n",
      " |  \n",
      " |  clusterLink(self) -> 'func_adl_servicex_xaodr21.elementlink_datavector_xaod_calocluster_v1__.ElementLink_DataVector_xAOD_CaloCluster_v1__'\n",
      " |      A method\n",
      " |  \n",
      " |  combinedTrackParticleLink(self) -> 'func_adl_servicex_xaodr21.elementlink_datavector_xaod_trackparticle_v1__.ElementLink_DataVector_xAOD_TrackParticle_v1__'\n",
      " |      A method\n",
      " |  \n",
      " |  e(self) -> 'float'\n",
      " |      A method\n",
      " |  \n",
      " |  eta(self) -> 'float'\n",
      " |      A method\n",
      " |  \n",
      " |  extrapolatedMuonSpectrometerTrackParticleLink(self) -> 'func_adl_servicex_xaodr21.elementlink_datavector_xaod_trackparticle_v1__.ElementLink_DataVector_xAOD_TrackParticle_v1__'\n",
      " |      A method\n",
      " |  \n",
      " |  hasNonConstStore(self) -> 'bool'\n",
      " |      A method\n",
      " |  \n",
      " |  hasStore(self) -> 'bool'\n",
      " |      A method\n",
      " |  \n",
      " |  inDetTrackParticleLink(self) -> 'func_adl_servicex_xaodr21.elementlink_datavector_xaod_trackparticle_v1__.ElementLink_DataVector_xAOD_TrackParticle_v1__'\n",
      " |      A method\n",
      " |  \n",
      " |  index(self) -> 'int'\n",
      " |      A method\n",
      " |  \n",
      " |  m(self) -> 'float'\n",
      " |      A method\n",
      " |  \n",
      " |  msOnlyExtrapolatedMuonSpectrometerTrackParticleLink(self) -> 'func_adl_servicex_xaodr21.elementlink_datavector_xaod_trackparticle_v1__.ElementLink_DataVector_xAOD_TrackParticle_v1__'\n",
      " |      A method\n",
      " |  \n",
      " |  muonSegment(self, i: 'int') -> 'func_adl_servicex_xaodr21.xAOD.muonsegment_v1.MuonSegment_v1'\n",
      " |      A method\n",
      " |  \n",
      " |  muonSegmentLink(self, i: 'int') -> 'func_adl_servicex_xaodr21.elementlink_datavector_xaod_muonsegment_v1__.ElementLink_DataVector_xAOD_MuonSegment_v1__'\n",
      " |      A method\n",
      " |  \n",
      " |  muonSegmentLinks(self) -> 'func_adl_servicex_xaodr21.vector_elementlink_datavector_xaod_muonsegment_v1___.vector_ElementLink_DataVector_xAOD_MuonSegment_v1___'\n",
      " |      A method\n",
      " |  \n",
      " |  muonSpectrometerTrackParticleLink(self) -> 'func_adl_servicex_xaodr21.elementlink_datavector_xaod_trackparticle_v1__.ElementLink_DataVector_xAOD_TrackParticle_v1__'\n",
      " |      A method\n",
      " |  \n",
      " |  nMuonSegments(self) -> 'int'\n",
      " |      A method\n",
      " |  \n",
      " |  p4(self) -> 'func_adl_servicex_xaodr21.tlorentzvector.TLorentzVector'\n",
      " |      A method\n",
      " |  \n",
      " |  passesHighPtCuts(self) -> 'bool'\n",
      " |      A method\n",
      " |  \n",
      " |  passesIDCuts(self) -> 'bool'\n",
      " |      A method\n",
      " |  \n",
      " |  phi(self) -> 'float'\n",
      " |      A method\n",
      " |  \n",
      " |  primaryTrackParticle(self) -> 'func_adl_servicex_xaodr21.xAOD.trackparticle_v1.TrackParticle_v1'\n",
      " |      A method\n",
      " |  \n",
      " |  primaryTrackParticleLink(self) -> 'func_adl_servicex_xaodr21.elementlink_datavector_xaod_trackparticle_v1__.ElementLink_DataVector_xAOD_TrackParticle_v1__'\n",
      " |      A method\n",
      " |  \n",
      " |  pt(self) -> 'float'\n",
      " |      A method\n",
      " |  \n",
      " |  rapidity(self) -> 'float'\n",
      " |      A method\n",
      " |  \n",
      " |  usingPrivateStore(self) -> 'bool'\n",
      " |      A method\n",
      " |  \n",
      " |  usingStandaloneStore(self) -> 'bool'\n",
      " |      A method\n",
      " |  \n",
      " |  ----------------------------------------------------------------------\n",
      " |  Data descriptors defined here:\n",
      " |  \n",
      " |  __dict__\n",
      " |      dictionary for instance variables (if defined)\n",
      " |  \n",
      " |  __weakref__\n",
      " |      list of weak references to the object (if defined)\n",
      "\n"
     ]
    }
   ],
   "source": [
    "from func_adl_servicex_xaodr21.xAOD.muon_v1 import Muon_v1\n",
    "help(Muon_v1)"
   ]
  },
  {
   "cell_type": "markdown",
   "metadata": {},
   "source": [
    "## Further Information\n",
    "\n",
    "* The [`xAOD::Muon_v1` C++ header file](https://gitlab.cern.ch/atlas/athena/-/blob/21.2/Event/xAOD/xAODMuon/xAODMuon/versions/Muon_v1.h) with all the inline documentation.\n",
    "* The [Muon Recommendation Pages for R21](https://twiki.cern.ch/twiki/bin/view/AtlasProtected/MCPAnalysisGuidelinesMC16) on the ATLAS TWiki"
   ]
  },
  {
   "cell_type": "markdown",
   "metadata": {},
   "source": []
  }
 ],
 "metadata": {
  "interpreter": {
   "hash": "4373964a7db18cf126f92f2b701a24b82fcc263e81b1ec161a400db7f7fa2af5"
  },
  "kernelspec": {
   "display_name": "Python 3.9.6 64-bit (system)",
   "name": "python3"
  },
  "language_info": {
   "codemirror_mode": {
    "name": "ipython",
    "version": 3
   },
   "file_extension": ".py",
   "mimetype": "text/x-python",
   "name": "python",
   "nbconvert_exporter": "python",
   "pygments_lexer": "ipython3",
   "version": "3.9.6"
  },
  "orig_nbformat": 4
 },
 "nbformat": 4,
 "nbformat_minor": 2
}
