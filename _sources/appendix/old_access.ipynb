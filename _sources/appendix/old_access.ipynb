{
 "cells": [
  {
   "cell_type": "markdown",
   "metadata": {},
   "source": [
    "# Old Collection Access Pattern\n",
    "\n",
    "The non-typed way of accessing xAOD collections is supported for now, but is depreciated, and eventually, will stop working. There isn't a lot different from the typed method. However, much less of the xAOD is defined, so watch out for holes."
   ]
  },
  {
   "cell_type": "code",
   "execution_count": 1,
   "metadata": {},
   "outputs": [],
   "source": [
    "from func_adl_servicex import ServiceXSourceXAOD, SXLocalxAOD\n",
    "import matplotlib.pyplot as plt\n",
    "from pathlib import Path\n",
    "\n",
    "local_xaod_path = Path(r\"C:\\Users\\gordo\\Code\\atlas\\data\\xAODSampleFiles\\DAOD_EXOT15.26710781._000001.pool.root.1\")\n",
    "if not local_xaod_path.exists():\n",
    "    local_xaod_path = Path(r\"C:\\Users\\gordo\\Code\\atlas\\xAODSampleData\\DAOD_EXOT15.26710781._000001.pool.root.1\")\n",
    "rucio_zee_r21_mc = 'rucio://mc15_13TeV:mc15_13TeV.361106.PowhegPythia8EvtGen_AZNLOCTEQ6L1_Zee.merge.DAOD_STDM3.e3601_s2576_s2132_r6630_r6264_p2363_tid05630052_00'"
   ]
  },
  {
   "cell_type": "code",
   "execution_count": 2,
   "metadata": {},
   "outputs": [
    {
     "name": "stderr",
     "output_type": "stream",
     "text": [
      "Found backend type matching \"xaod\". Matching by type is depreciated. Please switch to using the \"name\" keyword in your servicex.yaml file.\n"
     ]
    }
   ],
   "source": [
    "# ds = ServiceXSourceXAOD(rucio_zee_r21_mc, backend='xaod_r21')\n",
    "ds = SXLocalxAOD(local_xaod_path)"
   ]
  },
  {
   "cell_type": "code",
   "execution_count": 3,
   "metadata": {},
   "outputs": [],
   "source": [
    "jets = (ds\n",
    "          .SelectMany(lambda e: (e.Jets(\"AntiKt4EMTopoJets\")))\n",
    "          .Where(lambda j: (j.pt()/1000)>30)\n",
    "          .Select(lambda j: (j.pt()/1000.0))\n",
    "          .AsPandasDF(\"JetPt\")\n",
    "          .value())"
   ]
  },
  {
   "cell_type": "code",
   "execution_count": 4,
   "metadata": {},
   "outputs": [
    {
     "data": {
      "image/png": "[encoded data removed]",
      "text/plain": [
       "<Figure size 432x288 with 1 Axes>"
      ]
     },
     "metadata": {
      "needs_background": "light"
     },
     "output_type": "display_data"
    }
   ],
   "source": [
    "plt.hist(jets.JetPt, bins=100, range=(0, 100))\n",
    "plt.xlabel('Jet $p_T$ [GeV]')\n",
    "plt.ylabel('Number of jets')\n",
    "_ = plt.title('Jet $p_T$ distribution for Zee events')"
   ]
  }
 ],
 "metadata": {
  "interpreter": {
   "hash": "4373964a7db18cf126f92f2b701a24b82fcc263e81b1ec161a400db7f7fa2af5"
  },
  "kernelspec": {
   "display_name": "Python 3.9.6 64-bit (system)",
   "name": "python3"
  },
  "language_info": {
   "codemirror_mode": {
    "name": "ipython",
    "version": 3
   },
   "file_extension": ".py",
   "mimetype": "text/x-python",
   "name": "python",
   "nbconvert_exporter": "python",
   "pygments_lexer": "ipython3",
   "version": "3.9.6"
  },
  "widgets": {
   "application/vnd.jupyter.widget-state+json": {
    "state": {},
    "version_major": 2,
    "version_minor": 0
   }
  }
 },
 "nbformat": 4,
 "nbformat_minor": 4
}
